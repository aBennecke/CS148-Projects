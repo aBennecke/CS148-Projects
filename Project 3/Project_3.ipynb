{
  "nbformat": 4,
  "nbformat_minor": 0,
  "metadata": {
    "colab": {
      "provenance": [],
      "collapsed_sections": [
        "vCSZw1AyR5kL",
        "7D356IRQScGj",
        "9qVCEyFM5ooe",
        "uZ33AtrJ5wLy",
        "lZwe_-5QSIjJ",
        "KT2Tuj0MVFLa",
        "_P8RlqGvGMzV",
        "bVGvBGyZGlvv",
        "YAi0Hwigi0vm",
        "eG5XBJOnRc_K",
        "PruQst2CRp_x"
      ]
    },
    "kernelspec": {
      "name": "python3",
      "display_name": "Python 3"
    },
    "language_info": {
      "name": "python"
    }
  },
  "cells": [
    {
      "cell_type": "code",
      "metadata": {
        "colab": {
          "base_uri": "https://localhost:8080/"
        },
        "id": "aetnbDAiE-3P",
        "outputId": "610d23cf-9ea3-4d87-973b-ba5e0a1b1394"
      },
      "source": [
        "# Import libraries and mount drive\n",
        "\n",
        "import numpy as np # linear algebra\n",
        "import pandas as pd # data processing, CSV file I/O (e.g. pd.read_csv)\n",
        "import matplotlib.pyplot as plt # this is used for the plot the graph \n",
        "\n",
        "import seaborn as sns # used for plot interactive graph.\n",
        "from sklearn.model_selection import train_test_split, cross_val_score, GridSearchCV\n",
        "from sklearn import metrics\n",
        "from sklearn.svm import SVC  \n",
        "from sklearn.linear_model import LogisticRegression\n",
        "from sklearn.neighbors import KNeighborsClassifier\n",
        "from sklearn.tree import DecisionTreeClassifier\n",
        "from sklearn.cluster import KMeans\n",
        "from sklearn.metrics import confusion_matrix\n",
        "import sklearn.metrics.cluster as smc\n",
        "from matplotlib import pyplot\n",
        "\n",
        "from statsmodels.tsa.seasonal import seasonal_decompose\n",
        "\n",
        "from google.colab import drive\n",
        "drive.mount('/content/drive')"
      ],
      "execution_count": null,
      "outputs": [
        {
          "output_type": "stream",
          "name": "stdout",
          "text": [
            "Drive already mounted at /content/drive; to attempt to forcibly remount, call drive.mount(\"/content/drive\", force_remount=True).\n"
          ]
        },
        {
          "output_type": "stream",
          "name": "stderr",
          "text": [
            "/usr/local/lib/python3.7/dist-packages/statsmodels/tools/_testing.py:19: FutureWarning: pandas.util.testing is deprecated. Use the functions in the public API at pandas.testing instead.\n",
            "  import pandas.util.testing as tm\n"
          ]
        }
      ]
    },
    {
      "cell_type": "markdown",
      "metadata": {
        "id": "rWpF8XQWLloT"
      },
      "source": [
        "# 0) Data Loading and Exploration"
      ]
    },
    {
      "cell_type": "code",
      "metadata": {
        "id": "RTTjSyQUFY5-"
      },
      "source": [
        "# Load datasets\n",
        "dataDict = pd.read_csv('/content/drive/MyDrive/UCLA - Senior Year/CS 148/Project3.zip (Unzipped Files)/DataDictionary.csv')\n",
        "top50ProdByTotalSales = pd.read_csv('/content/drive/MyDrive/UCLA - Senior Year/CS 148/Project3.zip (Unzipped Files)/Top50ProductsbyTotalSales-Timeseries.csv')\n",
        "brandAvgRetailPrice = pd.read_csv('/content/drive/MyDrive/UCLA - Senior Year/CS 148/Project3.zip (Unzipped Files)/data/BrandAverageRetailPrice.csv')\n",
        "brandDetails = pd.read_csv('/content/drive/MyDrive/UCLA - Senior Year/CS 148/Project3.zip (Unzipped Files)/data/BrandDetails.csv')\n",
        "brandTotalSales = pd.read_csv('/content/drive/MyDrive/UCLA - Senior Year/CS 148/Project3.zip (Unzipped Files)/data/BrandTotalSales.csv')\n",
        "brandTotalUnits = pd.read_csv('/content/drive/MyDrive/UCLA - Senior Year/CS 148/Project3.zip (Unzipped Files)/data/BrandTotalUnits.csv')"
      ],
      "execution_count": null,
      "outputs": []
    },
    {
      "cell_type": "markdown",
      "metadata": {
        "id": "AxwDsRXdM8Ef"
      },
      "source": [
        "## dataDict Exploration"
      ]
    },
    {
      "cell_type": "code",
      "metadata": {
        "colab": {
          "base_uri": "https://localhost:8080/",
          "height": 206
        },
        "id": "ZWPuo_phGaTi",
        "outputId": "8f8b3d33-c21d-4168-fcc4-aa390dea67f2"
      },
      "source": [
        "dataDict = dataDict.loc[:,['Feature Name','Description']]\n",
        "dataDict.head(5)"
      ],
      "execution_count": null,
      "outputs": [
        {
          "output_type": "execute_result",
          "data": {
            "text/html": [
              "<div>\n",
              "<style scoped>\n",
              "    .dataframe tbody tr th:only-of-type {\n",
              "        vertical-align: middle;\n",
              "    }\n",
              "\n",
              "    .dataframe tbody tr th {\n",
              "        vertical-align: top;\n",
              "    }\n",
              "\n",
              "    .dataframe thead th {\n",
              "        text-align: right;\n",
              "    }\n",
              "</style>\n",
              "<table border=\"1\" class=\"dataframe\">\n",
              "  <thead>\n",
              "    <tr style=\"text-align: right;\">\n",
              "      <th></th>\n",
              "      <th>Feature Name</th>\n",
              "      <th>Description</th>\n",
              "    </tr>\n",
              "  </thead>\n",
              "  <tbody>\n",
              "    <tr>\n",
              "      <th>0</th>\n",
              "      <td>State</td>\n",
              "      <td>State where the sales occurred (for our datase...</td>\n",
              "    </tr>\n",
              "    <tr>\n",
              "      <th>1</th>\n",
              "      <td>Channel</td>\n",
              "      <td>Options between legal (licensed) and grey mark...</td>\n",
              "    </tr>\n",
              "    <tr>\n",
              "      <th>2</th>\n",
              "      <td>Category L1</td>\n",
              "      <td>Highest-level category for product. Options in...</td>\n",
              "    </tr>\n",
              "    <tr>\n",
              "      <th>3</th>\n",
              "      <td>Category L2</td>\n",
              "      <td>Next layer of categorization. Multiple product...</td>\n",
              "    </tr>\n",
              "    <tr>\n",
              "      <th>4</th>\n",
              "      <td>Category L3</td>\n",
              "      <td>Further detail on product-type</td>\n",
              "    </tr>\n",
              "  </tbody>\n",
              "</table>\n",
              "</div>"
            ],
            "text/plain": [
              "  Feature Name                                        Description\n",
              "0        State  State where the sales occurred (for our datase...\n",
              "1      Channel  Options between legal (licensed) and grey mark...\n",
              "2  Category L1  Highest-level category for product. Options in...\n",
              "3  Category L2  Next layer of categorization. Multiple product...\n",
              "4  Category L3                     Further detail on product-type"
            ]
          },
          "metadata": {},
          "execution_count": 13
        }
      ]
    },
    {
      "cell_type": "markdown",
      "metadata": {
        "id": "32ACLWIXSLbA"
      },
      "source": [
        "## top50ProdByTotalSales Exploration (Time Series)"
      ]
    },
    {
      "cell_type": "code",
      "metadata": {
        "colab": {
          "base_uri": "https://localhost:8080/",
          "height": 206
        },
        "id": "CqkJ3P_TSTgi",
        "outputId": "f7271234-a752-4c16-da12-0c20d0b268a9"
      },
      "source": [
        "top50ProdByTotalSales.head(5)"
      ],
      "execution_count": null,
      "outputs": [
        {
          "output_type": "execute_result",
          "data": {
            "text/html": [
              "<div>\n",
              "<style scoped>\n",
              "    .dataframe tbody tr th:only-of-type {\n",
              "        vertical-align: middle;\n",
              "    }\n",
              "\n",
              "    .dataframe tbody tr th {\n",
              "        vertical-align: top;\n",
              "    }\n",
              "\n",
              "    .dataframe thead th {\n",
              "        text-align: right;\n",
              "    }\n",
              "</style>\n",
              "<table border=\"1\" class=\"dataframe\">\n",
              "  <thead>\n",
              "    <tr style=\"text-align: right;\">\n",
              "      <th></th>\n",
              "      <th>Products</th>\n",
              "      <th>Months</th>\n",
              "      <th>Total Sales ($)</th>\n",
              "    </tr>\n",
              "  </thead>\n",
              "  <tbody>\n",
              "    <tr>\n",
              "      <th>0</th>\n",
              "      <td>Flower - Strain Blends - Flower (Gram)</td>\n",
              "      <td>07/2020</td>\n",
              "      <td>22,738,489.622206017</td>\n",
              "    </tr>\n",
              "    <tr>\n",
              "      <th>1</th>\n",
              "      <td>Flower - Strain Blends - Flower (Gram)</td>\n",
              "      <td>03/2021</td>\n",
              "      <td>22,648,507.64839804</td>\n",
              "    </tr>\n",
              "    <tr>\n",
              "      <th>2</th>\n",
              "      <td>Flower - Strain Blends - Flower (Gram)</td>\n",
              "      <td>05/2021</td>\n",
              "      <td>22,338,755.88508607</td>\n",
              "    </tr>\n",
              "    <tr>\n",
              "      <th>3</th>\n",
              "      <td>Flower - Strain Blends - Flower (Gram)</td>\n",
              "      <td>09/2020</td>\n",
              "      <td>21,461,950.605336975</td>\n",
              "    </tr>\n",
              "    <tr>\n",
              "      <th>4</th>\n",
              "      <td>Flower - Strain Blends - Flower (Gram)</td>\n",
              "      <td>06/2021</td>\n",
              "      <td>21,347,569.064233065</td>\n",
              "    </tr>\n",
              "  </tbody>\n",
              "</table>\n",
              "</div>"
            ],
            "text/plain": [
              "                                 Products   Months       Total Sales ($)\n",
              "0  Flower - Strain Blends - Flower (Gram)  07/2020  22,738,489.622206017\n",
              "1  Flower - Strain Blends - Flower (Gram)  03/2021   22,648,507.64839804\n",
              "2  Flower - Strain Blends - Flower (Gram)  05/2021   22,338,755.88508607\n",
              "3  Flower - Strain Blends - Flower (Gram)  09/2020  21,461,950.605336975\n",
              "4  Flower - Strain Blends - Flower (Gram)  06/2021  21,347,569.064233065"
            ]
          },
          "metadata": {},
          "execution_count": 27
        }
      ]
    },
    {
      "cell_type": "markdown",
      "metadata": {
        "id": "FjpJJ1o5NU60"
      },
      "source": [
        "## brandAvgRetailPrice Exploration (Time Series)"
      ]
    },
    {
      "cell_type": "code",
      "metadata": {
        "colab": {
          "base_uri": "https://localhost:8080/",
          "height": 206
        },
        "id": "-Fd3ywa0KVxp",
        "outputId": "02201456-b884-42ef-9174-8a806919bea6"
      },
      "source": [
        "# Show all null values\n",
        "brandAvgRetailPrice.isnull().sum()\n",
        "\n",
        "# Drop all rows containing NaN\n",
        "brandAvgRetailPrice = brandAvgRetailPrice.dropna()\n",
        "brandAvgRetailPrice.head(5)"
      ],
      "execution_count": null,
      "outputs": [
        {
          "output_type": "execute_result",
          "data": {
            "text/html": [
              "<div>\n",
              "<style scoped>\n",
              "    .dataframe tbody tr th:only-of-type {\n",
              "        vertical-align: middle;\n",
              "    }\n",
              "\n",
              "    .dataframe tbody tr th {\n",
              "        vertical-align: top;\n",
              "    }\n",
              "\n",
              "    .dataframe thead th {\n",
              "        text-align: right;\n",
              "    }\n",
              "</style>\n",
              "<table border=\"1\" class=\"dataframe\">\n",
              "  <thead>\n",
              "    <tr style=\"text-align: right;\">\n",
              "      <th></th>\n",
              "      <th>Brands</th>\n",
              "      <th>Months</th>\n",
              "      <th>ARP</th>\n",
              "      <th>vs. Prior Period</th>\n",
              "    </tr>\n",
              "  </thead>\n",
              "  <tbody>\n",
              "    <tr>\n",
              "      <th>3</th>\n",
              "      <td>#BlackSeries</td>\n",
              "      <td>02/2021</td>\n",
              "      <td>11.873182</td>\n",
              "      <td>-0.127705</td>\n",
              "    </tr>\n",
              "    <tr>\n",
              "      <th>8</th>\n",
              "      <td>101 Cannabis Co.</td>\n",
              "      <td>02/2020</td>\n",
              "      <td>29.091388</td>\n",
              "      <td>-0.147753</td>\n",
              "    </tr>\n",
              "    <tr>\n",
              "      <th>9</th>\n",
              "      <td>101 Cannabis Co.</td>\n",
              "      <td>03/2020</td>\n",
              "      <td>32.293498</td>\n",
              "      <td>0.110071</td>\n",
              "    </tr>\n",
              "    <tr>\n",
              "      <th>10</th>\n",
              "      <td>101 Cannabis Co.</td>\n",
              "      <td>04/2020</td>\n",
              "      <td>32.934344</td>\n",
              "      <td>0.019844</td>\n",
              "    </tr>\n",
              "    <tr>\n",
              "      <th>11</th>\n",
              "      <td>101 Cannabis Co.</td>\n",
              "      <td>05/2020</td>\n",
              "      <td>34.441725</td>\n",
              "      <td>0.045769</td>\n",
              "    </tr>\n",
              "  </tbody>\n",
              "</table>\n",
              "</div>"
            ],
            "text/plain": [
              "              Brands   Months        ARP  vs. Prior Period\n",
              "3       #BlackSeries  02/2021  11.873182         -0.127705\n",
              "8   101 Cannabis Co.  02/2020  29.091388         -0.147753\n",
              "9   101 Cannabis Co.  03/2020  32.293498          0.110071\n",
              "10  101 Cannabis Co.  04/2020  32.934344          0.019844\n",
              "11  101 Cannabis Co.  05/2020  34.441725          0.045769"
            ]
          },
          "metadata": {},
          "execution_count": 30
        }
      ]
    },
    {
      "cell_type": "code",
      "metadata": {
        "colab": {
          "base_uri": "https://localhost:8080/"
        },
        "id": "8GBoqifCNcmi",
        "outputId": "c43d83ed-4de7-4fdf-ec7c-402ac33337e1"
      },
      "source": [
        "brandAvgRetailPrice.info()"
      ],
      "execution_count": null,
      "outputs": [
        {
          "output_type": "stream",
          "name": "stdout",
          "text": [
            "<class 'pandas.core.frame.DataFrame'>\n",
            "Int64Index: 22570 entries, 3 to 27209\n",
            "Data columns (total 4 columns):\n",
            " #   Column            Non-Null Count  Dtype  \n",
            "---  ------            --------------  -----  \n",
            " 0   Brands            22570 non-null  object \n",
            " 1   Months            22570 non-null  object \n",
            " 2   ARP               22570 non-null  float64\n",
            " 3   vs. Prior Period  22570 non-null  float64\n",
            "dtypes: float64(2), object(2)\n",
            "memory usage: 881.6+ KB\n"
          ]
        }
      ]
    },
    {
      "cell_type": "markdown",
      "metadata": {
        "id": "Zd3_6vveNmWG"
      },
      "source": [
        "## brandDetails Exploration"
      ]
    },
    {
      "cell_type": "code",
      "metadata": {
        "colab": {
          "base_uri": "https://localhost:8080/"
        },
        "id": "xAAbth6TPA37",
        "outputId": "e04e7c60-94cc-43cb-954c-635d9b417c63"
      },
      "source": [
        "# The following columns were dropped because they had a majority of null values:\n",
        "#   Category L5, Flavor, Item Weight, Pax Filter, Is Flavored \n",
        "# The following columns were dropped because they had >100 unique values\n",
        "#   Category L4, Strain\n",
        "\n",
        "brandDetails['Category L4'].value_counts()"
      ],
      "execution_count": null,
      "outputs": [
        {
          "output_type": "execute_result",
          "data": {
            "text/plain": [
              "Vape Cartridge     38488\n",
              "Live Resin         20250\n",
              "Rosin               7445\n",
              "Vape Disposable     5813\n",
              "Wax                 4367\n",
              "                   ...  \n",
              "Dab Rig                7\n",
              "Soft                   6\n",
              "Bandana                4\n",
              "Flower                 4\n",
              "Jar                    3\n",
              "Name: Category L4, Length: 71, dtype: int64"
            ]
          },
          "metadata": {},
          "execution_count": 18
        }
      ]
    },
    {
      "cell_type": "code",
      "metadata": {
        "colab": {
          "base_uri": "https://localhost:8080/"
        },
        "id": "I42PIq77LaME",
        "outputId": "071c2950-92ed-49ca-b96c-fd28cfeecdf8"
      },
      "source": [
        "brandDetails.isnull().sum()"
      ],
      "execution_count": null,
      "outputs": [
        {
          "output_type": "execute_result",
          "data": {
            "text/plain": [
              "State                  0\n",
              "Channel                0\n",
              "Category L1            0\n",
              "Category L2            0\n",
              "Category L3            0\n",
              "Brand                  0\n",
              "Product Description    0\n",
              "Total Sales ($)        0\n",
              "Total Units            0\n",
              "ARP                    0\n",
              "Items Per Pack         0\n",
              "Total THC              0\n",
              "Total CBD              0\n",
              "Contains CBD           0\n",
              "Mood Effect            0\n",
              "Generic Vendor         0\n",
              "Generic Items          0\n",
              "$5 Price Increment     0\n",
              "dtype: int64"
            ]
          },
          "metadata": {},
          "execution_count": 80
        }
      ]
    },
    {
      "cell_type": "code",
      "metadata": {
        "colab": {
          "base_uri": "https://localhost:8080/"
        },
        "id": "YvKjP3KkNth0",
        "outputId": "270943d3-b51e-4dcc-b510-75ff42d4e3a6"
      },
      "source": [
        "brandDetails.info()"
      ],
      "execution_count": null,
      "outputs": [
        {
          "output_type": "stream",
          "name": "stdout",
          "text": [
            "<class 'pandas.core.frame.DataFrame'>\n",
            "Int64Index: 144245 entries, 0 to 144976\n",
            "Data columns (total 18 columns):\n",
            " #   Column               Non-Null Count   Dtype  \n",
            "---  ------               --------------   -----  \n",
            " 0   State                144245 non-null  object \n",
            " 1   Channel              144245 non-null  object \n",
            " 2   Category L1          144245 non-null  object \n",
            " 3   Category L2          144245 non-null  object \n",
            " 4   Category L3          144245 non-null  object \n",
            " 5   Brand                144245 non-null  object \n",
            " 6   Product Description  144245 non-null  object \n",
            " 7   Total Sales ($)      144245 non-null  object \n",
            " 8   Total Units          144245 non-null  object \n",
            " 9   ARP                  144245 non-null  float64\n",
            " 10  Items Per Pack       144245 non-null  int64  \n",
            " 11  Total THC            144245 non-null  object \n",
            " 12  Total CBD            144245 non-null  object \n",
            " 13  Contains CBD         144245 non-null  object \n",
            " 14  Mood Effect          144245 non-null  object \n",
            " 15  Generic Vendor       144245 non-null  object \n",
            " 16  Generic Items        144245 non-null  object \n",
            " 17  $5 Price Increment   144245 non-null  object \n",
            "dtypes: float64(1), int64(1), object(16)\n",
            "memory usage: 20.9+ MB\n"
          ]
        }
      ]
    },
    {
      "cell_type": "code",
      "metadata": {
        "id": "t6ccLGD4Nx8g"
      },
      "source": [
        "brandDetails = brandDetails.drop(columns=['Flavor','Is Flavored','Pax Filter',\n",
        "                           'Category L4','Category L5','Item Weight','Strain'])\n",
        "# The following columns were dropped because they had a majority of null values:\n",
        "#   Category L5, Flavor, Item Weight, Pax Filter, Is Flavored \n",
        "# The following columns were dropped because they had >100 unique values\n",
        "#   Category L4, Strain\n",
        "\n",
        "brandDetails = brandDetails.dropna()\n"
      ],
      "execution_count": null,
      "outputs": []
    },
    {
      "cell_type": "markdown",
      "metadata": {
        "id": "vCSZw1AyR5kL"
      },
      "source": [
        "## brandTotalSales Exploration (Time Series)"
      ]
    },
    {
      "cell_type": "code",
      "metadata": {
        "colab": {
          "base_uri": "https://localhost:8080/",
          "height": 206
        },
        "id": "2isO0y-eR7GJ",
        "outputId": "17f5fa8f-2b48-4a95-a228-a166eba6199d"
      },
      "source": [
        "brandTotalSales.head(5)"
      ],
      "execution_count": null,
      "outputs": [
        {
          "output_type": "execute_result",
          "data": {
            "text/html": [
              "<div>\n",
              "<style scoped>\n",
              "    .dataframe tbody tr th:only-of-type {\n",
              "        vertical-align: middle;\n",
              "    }\n",
              "\n",
              "    .dataframe tbody tr th {\n",
              "        vertical-align: top;\n",
              "    }\n",
              "\n",
              "    .dataframe thead th {\n",
              "        text-align: right;\n",
              "    }\n",
              "</style>\n",
              "<table border=\"1\" class=\"dataframe\">\n",
              "  <thead>\n",
              "    <tr style=\"text-align: right;\">\n",
              "      <th></th>\n",
              "      <th>Months</th>\n",
              "      <th>Brand</th>\n",
              "      <th>Total Sales ($)</th>\n",
              "    </tr>\n",
              "  </thead>\n",
              "  <tbody>\n",
              "    <tr>\n",
              "      <th>0</th>\n",
              "      <td>09/2018</td>\n",
              "      <td>10x Infused</td>\n",
              "      <td>1,711.334232</td>\n",
              "    </tr>\n",
              "    <tr>\n",
              "      <th>1</th>\n",
              "      <td>09/2018</td>\n",
              "      <td>1964 Supply Co.</td>\n",
              "      <td>25,475.21594500000</td>\n",
              "    </tr>\n",
              "    <tr>\n",
              "      <th>2</th>\n",
              "      <td>09/2018</td>\n",
              "      <td>3 Bros Grow</td>\n",
              "      <td>120,153.644757</td>\n",
              "    </tr>\n",
              "    <tr>\n",
              "      <th>3</th>\n",
              "      <td>09/2018</td>\n",
              "      <td>3 Leaf</td>\n",
              "      <td>6,063.5297850000000</td>\n",
              "    </tr>\n",
              "    <tr>\n",
              "      <th>4</th>\n",
              "      <td>09/2018</td>\n",
              "      <td>350 Fire</td>\n",
              "      <td>631,510.0481550000</td>\n",
              "    </tr>\n",
              "  </tbody>\n",
              "</table>\n",
              "</div>"
            ],
            "text/plain": [
              "    Months            Brand      Total Sales ($)\n",
              "0  09/2018      10x Infused         1,711.334232\n",
              "1  09/2018  1964 Supply Co.   25,475.21594500000\n",
              "2  09/2018      3 Bros Grow       120,153.644757\n",
              "3  09/2018           3 Leaf  6,063.5297850000000\n",
              "4  09/2018         350 Fire   631,510.0481550000"
            ]
          },
          "metadata": {},
          "execution_count": 21
        }
      ]
    },
    {
      "cell_type": "markdown",
      "metadata": {
        "id": "7D356IRQScGj"
      },
      "source": [
        "## brandTotalUnits Exploration (Time Series)"
      ]
    },
    {
      "cell_type": "code",
      "metadata": {
        "colab": {
          "base_uri": "https://localhost:8080/",
          "height": 206
        },
        "id": "c6Ds0glPSfWC",
        "outputId": "8f60e306-3017-4551-89c3-319852090288"
      },
      "source": [
        "brandTotalUnits = brandTotalUnits.dropna()\n",
        "brandTotalUnits.head(5)"
      ],
      "execution_count": null,
      "outputs": [
        {
          "output_type": "execute_result",
          "data": {
            "text/html": [
              "<div>\n",
              "<style scoped>\n",
              "    .dataframe tbody tr th:only-of-type {\n",
              "        vertical-align: middle;\n",
              "    }\n",
              "\n",
              "    .dataframe tbody tr th {\n",
              "        vertical-align: top;\n",
              "    }\n",
              "\n",
              "    .dataframe thead th {\n",
              "        text-align: right;\n",
              "    }\n",
              "</style>\n",
              "<table border=\"1\" class=\"dataframe\">\n",
              "  <thead>\n",
              "    <tr style=\"text-align: right;\">\n",
              "      <th></th>\n",
              "      <th>Brands</th>\n",
              "      <th>Months</th>\n",
              "      <th>Total Units</th>\n",
              "      <th>vs. Prior Period</th>\n",
              "    </tr>\n",
              "  </thead>\n",
              "  <tbody>\n",
              "    <tr>\n",
              "      <th>3</th>\n",
              "      <td>#BlackSeries</td>\n",
              "      <td>02/2021</td>\n",
              "      <td>766.669135</td>\n",
              "      <td>0.071466</td>\n",
              "    </tr>\n",
              "    <tr>\n",
              "      <th>8</th>\n",
              "      <td>101 Cannabis Co.</td>\n",
              "      <td>02/2020</td>\n",
              "      <td>696.6584310000000</td>\n",
              "      <td>1.016883</td>\n",
              "    </tr>\n",
              "    <tr>\n",
              "      <th>9</th>\n",
              "      <td>101 Cannabis Co.</td>\n",
              "      <td>03/2020</td>\n",
              "      <td>943.3933280000000</td>\n",
              "      <td>0.354169</td>\n",
              "    </tr>\n",
              "    <tr>\n",
              "      <th>10</th>\n",
              "      <td>101 Cannabis Co.</td>\n",
              "      <td>04/2020</td>\n",
              "      <td>712.4981020000000</td>\n",
              "      <td>-0.244750</td>\n",
              "    </tr>\n",
              "    <tr>\n",
              "      <th>11</th>\n",
              "      <td>101 Cannabis Co.</td>\n",
              "      <td>05/2020</td>\n",
              "      <td>619.8410320000000</td>\n",
              "      <td>-0.130045</td>\n",
              "    </tr>\n",
              "  </tbody>\n",
              "</table>\n",
              "</div>"
            ],
            "text/plain": [
              "              Brands   Months        Total Units  vs. Prior Period\n",
              "3       #BlackSeries  02/2021         766.669135          0.071466\n",
              "8   101 Cannabis Co.  02/2020  696.6584310000000          1.016883\n",
              "9   101 Cannabis Co.  03/2020  943.3933280000000          0.354169\n",
              "10  101 Cannabis Co.  04/2020  712.4981020000000         -0.244750\n",
              "11  101 Cannabis Co.  05/2020  619.8410320000000         -0.130045"
            ]
          },
          "metadata": {},
          "execution_count": 10
        }
      ]
    },
    {
      "cell_type": "code",
      "metadata": {
        "colab": {
          "base_uri": "https://localhost:8080/",
          "height": 390
        },
        "id": "5V698dbQVNbd",
        "outputId": "b8c5cbd4-8a79-4f52-f34c-4bf41c4b6e98"
      },
      "source": [],
      "execution_count": null,
      "outputs": [
        {
          "output_type": "error",
          "ename": "TypeError",
          "evalue": "ignored",
          "traceback": [
            "\u001b[0;31m---------------------------------------------------------------------------\u001b[0m",
            "\u001b[0;31mTypeError\u001b[0m                                 Traceback (most recent call last)",
            "\u001b[0;32m<ipython-input-19-e026a3af93e9>\u001b[0m in \u001b[0;36m<module>\u001b[0;34m()\u001b[0m\n\u001b[1;32m      7\u001b[0m \u001b[0;31m#brandTotalUnits.index\u001b[0m\u001b[0;34m\u001b[0m\u001b[0;34m\u001b[0m\u001b[0;34m\u001b[0m\u001b[0m\n\u001b[1;32m      8\u001b[0m \u001b[0;34m\u001b[0m\u001b[0m\n\u001b[0;32m----> 9\u001b[0;31m \u001b[0mresult\u001b[0m \u001b[0;34m=\u001b[0m \u001b[0mseasonal_decompose\u001b[0m\u001b[0;34m(\u001b[0m\u001b[0mbrandTotalUnits\u001b[0m\u001b[0;34m,\u001b[0m\u001b[0mmodel\u001b[0m\u001b[0;34m=\u001b[0m\u001b[0;34m'multiplicative'\u001b[0m\u001b[0;34m)\u001b[0m\u001b[0;34m\u001b[0m\u001b[0;34m\u001b[0m\u001b[0m\n\u001b[0m\u001b[1;32m     10\u001b[0m \u001b[0mresult\u001b[0m\u001b[0;34m.\u001b[0m\u001b[0mplot\u001b[0m\u001b[0;34m(\u001b[0m\u001b[0;34m)\u001b[0m\u001b[0;34m\u001b[0m\u001b[0;34m\u001b[0m\u001b[0m\n\u001b[1;32m     11\u001b[0m \u001b[0mpyplot\u001b[0m\u001b[0;34m.\u001b[0m\u001b[0mshow\u001b[0m\u001b[0;34m(\u001b[0m\u001b[0;34m)\u001b[0m\u001b[0;34m\u001b[0m\u001b[0;34m\u001b[0m\u001b[0m\n",
            "\u001b[0;32m/usr/local/lib/python3.7/dist-packages/statsmodels/tsa/seasonal.py\u001b[0m in \u001b[0;36mseasonal_decompose\u001b[0;34m(x, model, filt, freq, two_sided, extrapolate_trend)\u001b[0m\n\u001b[1;32m    113\u001b[0m     \u001b[0mnobs\u001b[0m \u001b[0;34m=\u001b[0m \u001b[0mlen\u001b[0m\u001b[0;34m(\u001b[0m\u001b[0mx\u001b[0m\u001b[0;34m)\u001b[0m\u001b[0;34m\u001b[0m\u001b[0;34m\u001b[0m\u001b[0m\n\u001b[1;32m    114\u001b[0m \u001b[0;34m\u001b[0m\u001b[0m\n\u001b[0;32m--> 115\u001b[0;31m     \u001b[0;32mif\u001b[0m \u001b[0;32mnot\u001b[0m \u001b[0mnp\u001b[0m\u001b[0;34m.\u001b[0m\u001b[0mall\u001b[0m\u001b[0;34m(\u001b[0m\u001b[0mnp\u001b[0m\u001b[0;34m.\u001b[0m\u001b[0misfinite\u001b[0m\u001b[0;34m(\u001b[0m\u001b[0mx\u001b[0m\u001b[0;34m)\u001b[0m\u001b[0;34m)\u001b[0m\u001b[0;34m:\u001b[0m\u001b[0;34m\u001b[0m\u001b[0;34m\u001b[0m\u001b[0m\n\u001b[0m\u001b[1;32m    116\u001b[0m         \u001b[0;32mraise\u001b[0m \u001b[0mValueError\u001b[0m\u001b[0;34m(\u001b[0m\u001b[0;34m\"This function does not handle missing values\"\u001b[0m\u001b[0;34m)\u001b[0m\u001b[0;34m\u001b[0m\u001b[0;34m\u001b[0m\u001b[0m\n\u001b[1;32m    117\u001b[0m     \u001b[0;32mif\u001b[0m \u001b[0mmodel\u001b[0m\u001b[0;34m.\u001b[0m\u001b[0mstartswith\u001b[0m\u001b[0;34m(\u001b[0m\u001b[0;34m'm'\u001b[0m\u001b[0;34m)\u001b[0m\u001b[0;34m:\u001b[0m\u001b[0;34m\u001b[0m\u001b[0;34m\u001b[0m\u001b[0m\n",
            "\u001b[0;31mTypeError\u001b[0m: ufunc 'isfinite' not supported for the input types, and the inputs could not be safely coerced to any supported types according to the casting rule ''safe''"
          ]
        }
      ]
    },
    {
      "cell_type": "markdown",
      "metadata": {
        "id": "jzv2nH3wTzj1"
      },
      "source": [
        "# 1) Merge Datasets and Effectively Link Information"
      ]
    },
    {
      "cell_type": "code",
      "metadata": {
        "id": "cKUCosc0T5ME"
      },
      "source": [
        "# Load datasets\n",
        "dataDict = pd.read_csv('/content/drive/MyDrive/UCLA - Senior Year/CS 148/Project3.zip (Unzipped Files)/DataDictionary.csv')\n",
        "top50ProdByTotalSales = pd.read_csv('/content/drive/MyDrive/UCLA - Senior Year/CS 148/Project3.zip (Unzipped Files)/Top50ProductsbyTotalSales-Timeseries.csv')\n",
        "brandAvgRetailPrice = pd.read_csv('/content/drive/MyDrive/UCLA - Senior Year/CS 148/Project3.zip (Unzipped Files)/data/BrandAverageRetailPrice.csv')\n",
        "brandDetails = pd.read_csv('/content/drive/MyDrive/UCLA - Senior Year/CS 148/Project3.zip (Unzipped Files)/data/BrandDetails.csv')\n",
        "brandTotalSales = pd.read_csv('/content/drive/MyDrive/UCLA - Senior Year/CS 148/Project3.zip (Unzipped Files)/data/BrandTotalSales.csv')\n",
        "brandTotalUnits = pd.read_csv('/content/drive/MyDrive/UCLA - Senior Year/CS 148/Project3.zip (Unzipped Files)/data/BrandTotalUnits.csv')"
      ],
      "execution_count": null,
      "outputs": []
    },
    {
      "cell_type": "code",
      "metadata": {
        "colab": {
          "base_uri": "https://localhost:8080/",
          "height": 206
        },
        "id": "odPJizauT_iQ",
        "outputId": "72035cff-b1cc-4412-d6da-39d63e3fc62c"
      },
      "source": [
        "# Goal: Merge all Time Series data based on Brand and Month (excludes top50)\n",
        "\n",
        "ts_data = brandTotalSales.merge(brandTotalUnits,how='inner',left_on=['Brand','Months'],right_on=['Brands','Months'])\n",
        "ts_data = ts_data.merge(brandAvgRetailPrice,how='inner',left_on=['Brands','Months'],right_on=['Brands','Months'])\n",
        "ts_data = ts_data.drop(columns=['Brands'])\n",
        "ts_data = ts_data.rename(columns={\"Total Sales ($)\":\"Total Brand Sales ($)\"})\n",
        "ts_data.head(5)"
      ],
      "execution_count": null,
      "outputs": [
        {
          "output_type": "execute_result",
          "data": {
            "text/html": [
              "<div>\n",
              "<style scoped>\n",
              "    .dataframe tbody tr th:only-of-type {\n",
              "        vertical-align: middle;\n",
              "    }\n",
              "\n",
              "    .dataframe tbody tr th {\n",
              "        vertical-align: top;\n",
              "    }\n",
              "\n",
              "    .dataframe thead th {\n",
              "        text-align: right;\n",
              "    }\n",
              "</style>\n",
              "<table border=\"1\" class=\"dataframe\">\n",
              "  <thead>\n",
              "    <tr style=\"text-align: right;\">\n",
              "      <th></th>\n",
              "      <th>Months</th>\n",
              "      <th>Brand</th>\n",
              "      <th>Total Brand Sales ($)</th>\n",
              "      <th>Total Units</th>\n",
              "      <th>vs. Prior Period_x</th>\n",
              "      <th>ARP</th>\n",
              "      <th>vs. Prior Period_y</th>\n",
              "    </tr>\n",
              "  </thead>\n",
              "  <tbody>\n",
              "    <tr>\n",
              "      <th>0</th>\n",
              "      <td>09/2018</td>\n",
              "      <td>10x Infused</td>\n",
              "      <td>1,711.334232</td>\n",
              "      <td>142.839336</td>\n",
              "      <td>-0.833098</td>\n",
              "      <td>11.980833</td>\n",
              "      <td>NaN</td>\n",
              "    </tr>\n",
              "    <tr>\n",
              "      <th>1</th>\n",
              "      <td>09/2018</td>\n",
              "      <td>1964 Supply Co.</td>\n",
              "      <td>25,475.21594500000</td>\n",
              "      <td>2,395.534726000000</td>\n",
              "      <td>-0.184675</td>\n",
              "      <td>10.634459</td>\n",
              "      <td>NaN</td>\n",
              "    </tr>\n",
              "    <tr>\n",
              "      <th>2</th>\n",
              "      <td>09/2018</td>\n",
              "      <td>3 Bros Grow</td>\n",
              "      <td>120,153.644757</td>\n",
              "      <td>10,018.989140000000</td>\n",
              "      <td>-0.577103</td>\n",
              "      <td>11.992592</td>\n",
              "      <td>NaN</td>\n",
              "    </tr>\n",
              "    <tr>\n",
              "      <th>3</th>\n",
              "      <td>09/2018</td>\n",
              "      <td>3 Leaf</td>\n",
              "      <td>6,063.5297850000000</td>\n",
              "      <td>1,101.053215</td>\n",
              "      <td>-0.672014</td>\n",
              "      <td>5.507027</td>\n",
              "      <td>NaN</td>\n",
              "    </tr>\n",
              "    <tr>\n",
              "      <th>4</th>\n",
              "      <td>09/2018</td>\n",
              "      <td>350 Fire</td>\n",
              "      <td>631,510.0481550000</td>\n",
              "      <td>64,128.91028600000</td>\n",
              "      <td>-0.216338</td>\n",
              "      <td>9.847509</td>\n",
              "      <td>NaN</td>\n",
              "    </tr>\n",
              "  </tbody>\n",
              "</table>\n",
              "</div>"
            ],
            "text/plain": [
              "    Months            Brand  ...        ARP vs. Prior Period_y\n",
              "0  09/2018      10x Infused  ...  11.980833                NaN\n",
              "1  09/2018  1964 Supply Co.  ...  10.634459                NaN\n",
              "2  09/2018      3 Bros Grow  ...  11.992592                NaN\n",
              "3  09/2018           3 Leaf  ...   5.507027                NaN\n",
              "4  09/2018         350 Fire  ...   9.847509                NaN\n",
              "\n",
              "[5 rows x 7 columns]"
            ]
          },
          "metadata": {},
          "execution_count": 45
        }
      ]
    },
    {
      "cell_type": "code",
      "metadata": {
        "id": "W6BNQO8wb9t8"
      },
      "source": [
        "# Change data to correct dtype\n",
        "\n",
        "# Remove all commas from df (necessary for pd.to_numeric)\n",
        "ts_data = ts_data.replace(',','',regex=True)\n",
        "\n",
        "# Convert 'Months' col to datetime dtype\n",
        "ts_data['Months'] = pd.to_datetime(ts_data['Months'], format='%m/%Y')\n",
        "\n",
        "# Convert Total Units and Total Brand Sales to float\n",
        "ts_data['Total Units'] = pd.to_numeric(ts_data['Total Units'])\n",
        "ts_data['Total Brand Sales ($)'] = pd.to_numeric(ts_data['Total Brand Sales ($)'])\n",
        "\n",
        "# Clean brandDetails\n",
        "brandDetails = brandDetails.replace(',','',regex=True)\n",
        "brandDetails['Total THC'] = pd.to_numeric(brandDetails['Total THC'])\n",
        "brandDetails['Total CBD'] = pd.to_numeric(brandDetails['Total CBD'])\n",
        "\n",
        "# Display current state of df\n",
        "ts_data.info()"
      ],
      "execution_count": null,
      "outputs": []
    },
    {
      "cell_type": "markdown",
      "metadata": {
        "id": "7X3RxhCgkZcp"
      },
      "source": [
        "# 2) Develop basic Time Series Feature Extraction Plan"
      ]
    },
    {
      "cell_type": "markdown",
      "metadata": {
        "id": "9qVCEyFM5ooe"
      },
      "source": [
        "## 2.1) Individual (Time Series) brand features"
      ]
    },
    {
      "cell_type": "code",
      "metadata": {
        "colab": {
          "base_uri": "https://localhost:8080/",
          "height": 660
        },
        "id": "1vf_-ojbo97Y",
        "outputId": "156bd8af-25da-4938-ffe5-c4c656d2c3df"
      },
      "source": [
        "# Augment features for a single brand (Time)\n",
        "times = ts_data[ts_data.Brand == 'Wyld']\n",
        "\n",
        "# Insert new column with the year\n",
        "times['year'] = pd.DatetimeIndex(times['Months']).year\n",
        "\n",
        "# Insert new column with the quarter of the fiscal year\n",
        "bins = [0,3,6,9,12] # Creates a new bin for every 3 months\n",
        "labels = [1,2,3,4] # Q1, Q2, ...\n",
        "times['quarter'] = pd.cut(pd.DatetimeIndex(times['Months']).month,bins,labels=labels)\n",
        "\n",
        "# Insert new column with length of time in market\n",
        "times['length_in_market'] = times.loc[:,'Months'] - pd.DatetimeIndex(times['Months'])[0]\n",
        "\n",
        "times.head(5)"
      ],
      "execution_count": null,
      "outputs": [
        {
          "output_type": "stream",
          "name": "stderr",
          "text": [
            "/usr/local/lib/python3.7/dist-packages/ipykernel_launcher.py:5: SettingWithCopyWarning: \n",
            "A value is trying to be set on a copy of a slice from a DataFrame.\n",
            "Try using .loc[row_indexer,col_indexer] = value instead\n",
            "\n",
            "See the caveats in the documentation: https://pandas.pydata.org/pandas-docs/stable/user_guide/indexing.html#returning-a-view-versus-a-copy\n",
            "  \"\"\"\n",
            "/usr/local/lib/python3.7/dist-packages/ipykernel_launcher.py:10: SettingWithCopyWarning: \n",
            "A value is trying to be set on a copy of a slice from a DataFrame.\n",
            "Try using .loc[row_indexer,col_indexer] = value instead\n",
            "\n",
            "See the caveats in the documentation: https://pandas.pydata.org/pandas-docs/stable/user_guide/indexing.html#returning-a-view-versus-a-copy\n",
            "  # Remove the CWD from sys.path while we load stuff.\n",
            "/usr/local/lib/python3.7/dist-packages/ipykernel_launcher.py:13: SettingWithCopyWarning: \n",
            "A value is trying to be set on a copy of a slice from a DataFrame.\n",
            "Try using .loc[row_indexer,col_indexer] = value instead\n",
            "\n",
            "See the caveats in the documentation: https://pandas.pydata.org/pandas-docs/stable/user_guide/indexing.html#returning-a-view-versus-a-copy\n",
            "  del sys.path[0]\n"
          ]
        },
        {
          "output_type": "execute_result",
          "data": {
            "text/html": [
              "<div>\n",
              "<style scoped>\n",
              "    .dataframe tbody tr th:only-of-type {\n",
              "        vertical-align: middle;\n",
              "    }\n",
              "\n",
              "    .dataframe tbody tr th {\n",
              "        vertical-align: top;\n",
              "    }\n",
              "\n",
              "    .dataframe thead th {\n",
              "        text-align: right;\n",
              "    }\n",
              "</style>\n",
              "<table border=\"1\" class=\"dataframe\">\n",
              "  <thead>\n",
              "    <tr style=\"text-align: right;\">\n",
              "      <th></th>\n",
              "      <th>Months</th>\n",
              "      <th>Brand</th>\n",
              "      <th>Total Brand Sales ($)</th>\n",
              "      <th>Total Units</th>\n",
              "      <th>vs. Prior Period_x</th>\n",
              "      <th>ARP</th>\n",
              "      <th>vs. Prior Period_y</th>\n",
              "      <th>year</th>\n",
              "      <th>quarter</th>\n",
              "      <th>length_in_market</th>\n",
              "    </tr>\n",
              "  </thead>\n",
              "  <tbody>\n",
              "    <tr>\n",
              "      <th>3654</th>\n",
              "      <td>2019-03-01</td>\n",
              "      <td>Wyld</td>\n",
              "      <td>1.430982e+04</td>\n",
              "      <td>876.645770</td>\n",
              "      <td>NaN</td>\n",
              "      <td>16.323377</td>\n",
              "      <td>NaN</td>\n",
              "      <td>2019</td>\n",
              "      <td>1</td>\n",
              "      <td>0 days</td>\n",
              "    </tr>\n",
              "    <tr>\n",
              "      <th>4238</th>\n",
              "      <td>2019-04-01</td>\n",
              "      <td>Wyld</td>\n",
              "      <td>1.965849e+05</td>\n",
              "      <td>11162.962026</td>\n",
              "      <td>11.733720</td>\n",
              "      <td>17.610457</td>\n",
              "      <td>0.078849</td>\n",
              "      <td>2019</td>\n",
              "      <td>2</td>\n",
              "      <td>31 days</td>\n",
              "    </tr>\n",
              "    <tr>\n",
              "      <th>4829</th>\n",
              "      <td>2019-05-01</td>\n",
              "      <td>Wyld</td>\n",
              "      <td>6.280397e+05</td>\n",
              "      <td>35304.441109</td>\n",
              "      <td>2.162641</td>\n",
              "      <td>17.789254</td>\n",
              "      <td>0.010153</td>\n",
              "      <td>2019</td>\n",
              "      <td>2</td>\n",
              "      <td>61 days</td>\n",
              "    </tr>\n",
              "    <tr>\n",
              "      <th>5455</th>\n",
              "      <td>2019-06-01</td>\n",
              "      <td>Wyld</td>\n",
              "      <td>1.064276e+06</td>\n",
              "      <td>59623.346049</td>\n",
              "      <td>0.688834</td>\n",
              "      <td>17.849994</td>\n",
              "      <td>0.003414</td>\n",
              "      <td>2019</td>\n",
              "      <td>2</td>\n",
              "      <td>92 days</td>\n",
              "    </tr>\n",
              "    <tr>\n",
              "      <th>6067</th>\n",
              "      <td>2019-07-01</td>\n",
              "      <td>Wyld</td>\n",
              "      <td>1.379979e+06</td>\n",
              "      <td>74048.747671</td>\n",
              "      <td>0.241942</td>\n",
              "      <td>18.636088</td>\n",
              "      <td>0.044039</td>\n",
              "      <td>2019</td>\n",
              "      <td>3</td>\n",
              "      <td>122 days</td>\n",
              "    </tr>\n",
              "  </tbody>\n",
              "</table>\n",
              "</div>"
            ],
            "text/plain": [
              "         Months Brand  Total Brand Sales ($)  ...  year  quarter  length_in_market\n",
              "3654 2019-03-01  Wyld           1.430982e+04  ...  2019        1            0 days\n",
              "4238 2019-04-01  Wyld           1.965849e+05  ...  2019        2           31 days\n",
              "4829 2019-05-01  Wyld           6.280397e+05  ...  2019        2           61 days\n",
              "5455 2019-06-01  Wyld           1.064276e+06  ...  2019        2           92 days\n",
              "6067 2019-07-01  Wyld           1.379979e+06  ...  2019        3          122 days\n",
              "\n",
              "[5 rows x 10 columns]"
            ]
          },
          "metadata": {},
          "execution_count": 105
        }
      ]
    },
    {
      "cell_type": "code",
      "metadata": {
        "colab": {
          "base_uri": "https://localhost:8080/",
          "height": 556
        },
        "id": "oBFcDZI3oyZj",
        "outputId": "d10dadc4-9cac-4b0b-85ef-fd8f959a2711"
      },
      "source": [
        "# Augment features for a single brand (Sales)\n",
        "sales = ts_data[ts_data.Brand == 'Wyld']\n",
        "\n",
        "# Insert new column with last month's total sales\n",
        "sales.loc[:,'Previous Month (Sales)'] = sales.loc[:,'Total Brand Sales ($)'].shift(1)\n",
        "\n",
        "# Insert new column with average total sales over last 3 months\n",
        "sales.loc[:,'Rolling Average (Sales)'] = (sales.loc[:,'Total Brand Sales ($)'].shift(1) + sales.loc[:,'Total Brand Sales ($)'].shift(2) + sales.loc[:,'Total Brand Sales ($)'].shift(3))/3\n",
        "\n",
        "# Insert new column with market share of the brand over time (TODO)\n",
        "sales.loc[:,'Market Share'] = sales.loc[:,'Total Brand Sales ($)'] / # Market Size at date\n",
        "\n",
        "sales.head(5)"
      ],
      "execution_count": null,
      "outputs": [
        {
          "output_type": "stream",
          "name": "stderr",
          "text": [
            "/usr/local/lib/python3.7/dist-packages/pandas/core/indexing.py:1596: SettingWithCopyWarning: \n",
            "A value is trying to be set on a copy of a slice from a DataFrame.\n",
            "Try using .loc[row_indexer,col_indexer] = value instead\n",
            "\n",
            "See the caveats in the documentation: https://pandas.pydata.org/pandas-docs/stable/user_guide/indexing.html#returning-a-view-versus-a-copy\n",
            "  self.obj[key] = _infer_fill_value(value)\n",
            "/usr/local/lib/python3.7/dist-packages/pandas/core/indexing.py:1743: SettingWithCopyWarning: \n",
            "A value is trying to be set on a copy of a slice from a DataFrame.\n",
            "Try using .loc[row_indexer,col_indexer] = value instead\n",
            "\n",
            "See the caveats in the documentation: https://pandas.pydata.org/pandas-docs/stable/user_guide/indexing.html#returning-a-view-versus-a-copy\n",
            "  isetter(ilocs[0], value)\n"
          ]
        },
        {
          "output_type": "execute_result",
          "data": {
            "text/html": [
              "<div>\n",
              "<style scoped>\n",
              "    .dataframe tbody tr th:only-of-type {\n",
              "        vertical-align: middle;\n",
              "    }\n",
              "\n",
              "    .dataframe tbody tr th {\n",
              "        vertical-align: top;\n",
              "    }\n",
              "\n",
              "    .dataframe thead th {\n",
              "        text-align: right;\n",
              "    }\n",
              "</style>\n",
              "<table border=\"1\" class=\"dataframe\">\n",
              "  <thead>\n",
              "    <tr style=\"text-align: right;\">\n",
              "      <th></th>\n",
              "      <th>Months</th>\n",
              "      <th>Brand</th>\n",
              "      <th>Total Brand Sales ($)</th>\n",
              "      <th>Total Units</th>\n",
              "      <th>vs. Prior Period_x</th>\n",
              "      <th>ARP</th>\n",
              "      <th>vs. Prior Period_y</th>\n",
              "      <th>Previous Month (Sales)</th>\n",
              "      <th>Rolling Average (Sales)</th>\n",
              "    </tr>\n",
              "  </thead>\n",
              "  <tbody>\n",
              "    <tr>\n",
              "      <th>3654</th>\n",
              "      <td>2019-03-01</td>\n",
              "      <td>Wyld</td>\n",
              "      <td>1.430982e+04</td>\n",
              "      <td>876.645770</td>\n",
              "      <td>NaN</td>\n",
              "      <td>16.323377</td>\n",
              "      <td>NaN</td>\n",
              "      <td>NaN</td>\n",
              "      <td>NaN</td>\n",
              "    </tr>\n",
              "    <tr>\n",
              "      <th>4238</th>\n",
              "      <td>2019-04-01</td>\n",
              "      <td>Wyld</td>\n",
              "      <td>1.965849e+05</td>\n",
              "      <td>11162.962026</td>\n",
              "      <td>11.733720</td>\n",
              "      <td>17.610457</td>\n",
              "      <td>0.078849</td>\n",
              "      <td>1.430982e+04</td>\n",
              "      <td>NaN</td>\n",
              "    </tr>\n",
              "    <tr>\n",
              "      <th>4829</th>\n",
              "      <td>2019-05-01</td>\n",
              "      <td>Wyld</td>\n",
              "      <td>6.280397e+05</td>\n",
              "      <td>35304.441109</td>\n",
              "      <td>2.162641</td>\n",
              "      <td>17.789254</td>\n",
              "      <td>0.010153</td>\n",
              "      <td>1.965849e+05</td>\n",
              "      <td>NaN</td>\n",
              "    </tr>\n",
              "    <tr>\n",
              "      <th>5455</th>\n",
              "      <td>2019-06-01</td>\n",
              "      <td>Wyld</td>\n",
              "      <td>1.064276e+06</td>\n",
              "      <td>59623.346049</td>\n",
              "      <td>0.688834</td>\n",
              "      <td>17.849994</td>\n",
              "      <td>0.003414</td>\n",
              "      <td>6.280397e+05</td>\n",
              "      <td>279644.784333</td>\n",
              "    </tr>\n",
              "    <tr>\n",
              "      <th>6067</th>\n",
              "      <td>2019-07-01</td>\n",
              "      <td>Wyld</td>\n",
              "      <td>1.379979e+06</td>\n",
              "      <td>74048.747671</td>\n",
              "      <td>0.241942</td>\n",
              "      <td>18.636088</td>\n",
              "      <td>0.044039</td>\n",
              "      <td>1.064276e+06</td>\n",
              "      <td>629633.627696</td>\n",
              "    </tr>\n",
              "  </tbody>\n",
              "</table>\n",
              "</div>"
            ],
            "text/plain": [
              "         Months Brand  ...  Previous Month (Sales)  Rolling Average (Sales)\n",
              "3654 2019-03-01  Wyld  ...                     NaN                      NaN\n",
              "4238 2019-04-01  Wyld  ...            1.430982e+04                      NaN\n",
              "4829 2019-05-01  Wyld  ...            1.965849e+05                      NaN\n",
              "5455 2019-06-01  Wyld  ...            6.280397e+05            279644.784333\n",
              "6067 2019-07-01  Wyld  ...            1.064276e+06            629633.627696\n",
              "\n",
              "[5 rows x 9 columns]"
            ]
          },
          "metadata": {},
          "execution_count": 103
        }
      ]
    },
    {
      "cell_type": "code",
      "metadata": {
        "colab": {
          "base_uri": "https://localhost:8080/",
          "height": 556
        },
        "id": "QyLYR36tkftd",
        "outputId": "2e680954-6ef7-4bc2-bb04-7c1aed84ab83"
      },
      "source": [
        "# Augment features for a single brand (Units)\n",
        "units = ts_data[ts_data.Brand == 'Wyld']\n",
        "\n",
        "# Insert new column with last month's total units\n",
        "units.loc[:,'Previous Month (Units)'] = units.loc[:,'Total Units'].shift(1)\n",
        "\n",
        "# Insert new column with average total units over last 3 months\n",
        "units.loc[:,'Rolling Average (Units)'] = (units.loc[:,'Total Units'].shift(1) + units.loc[:,'Total Units'].shift(2) + units.loc[:,'Total Units'].shift(3))/3\n",
        "\n",
        "units.head(5)"
      ],
      "execution_count": null,
      "outputs": [
        {
          "output_type": "stream",
          "name": "stderr",
          "text": [
            "/usr/local/lib/python3.7/dist-packages/pandas/core/indexing.py:1596: SettingWithCopyWarning: \n",
            "A value is trying to be set on a copy of a slice from a DataFrame.\n",
            "Try using .loc[row_indexer,col_indexer] = value instead\n",
            "\n",
            "See the caveats in the documentation: https://pandas.pydata.org/pandas-docs/stable/user_guide/indexing.html#returning-a-view-versus-a-copy\n",
            "  self.obj[key] = _infer_fill_value(value)\n",
            "/usr/local/lib/python3.7/dist-packages/pandas/core/indexing.py:1743: SettingWithCopyWarning: \n",
            "A value is trying to be set on a copy of a slice from a DataFrame.\n",
            "Try using .loc[row_indexer,col_indexer] = value instead\n",
            "\n",
            "See the caveats in the documentation: https://pandas.pydata.org/pandas-docs/stable/user_guide/indexing.html#returning-a-view-versus-a-copy\n",
            "  isetter(ilocs[0], value)\n"
          ]
        },
        {
          "output_type": "execute_result",
          "data": {
            "text/html": [
              "<div>\n",
              "<style scoped>\n",
              "    .dataframe tbody tr th:only-of-type {\n",
              "        vertical-align: middle;\n",
              "    }\n",
              "\n",
              "    .dataframe tbody tr th {\n",
              "        vertical-align: top;\n",
              "    }\n",
              "\n",
              "    .dataframe thead th {\n",
              "        text-align: right;\n",
              "    }\n",
              "</style>\n",
              "<table border=\"1\" class=\"dataframe\">\n",
              "  <thead>\n",
              "    <tr style=\"text-align: right;\">\n",
              "      <th></th>\n",
              "      <th>Months</th>\n",
              "      <th>Brand</th>\n",
              "      <th>Total Brand Sales ($)</th>\n",
              "      <th>Total Units</th>\n",
              "      <th>vs. Prior Period_x</th>\n",
              "      <th>ARP</th>\n",
              "      <th>vs. Prior Period_y</th>\n",
              "      <th>Previous Month (Units)</th>\n",
              "      <th>Rolling Average (Units)</th>\n",
              "    </tr>\n",
              "  </thead>\n",
              "  <tbody>\n",
              "    <tr>\n",
              "      <th>3654</th>\n",
              "      <td>2019-03-01</td>\n",
              "      <td>Wyld</td>\n",
              "      <td>1.430982e+04</td>\n",
              "      <td>876.645770</td>\n",
              "      <td>NaN</td>\n",
              "      <td>16.323377</td>\n",
              "      <td>NaN</td>\n",
              "      <td>NaN</td>\n",
              "      <td>NaN</td>\n",
              "    </tr>\n",
              "    <tr>\n",
              "      <th>4238</th>\n",
              "      <td>2019-04-01</td>\n",
              "      <td>Wyld</td>\n",
              "      <td>1.965849e+05</td>\n",
              "      <td>11162.962026</td>\n",
              "      <td>11.733720</td>\n",
              "      <td>17.610457</td>\n",
              "      <td>0.078849</td>\n",
              "      <td>876.645770</td>\n",
              "      <td>NaN</td>\n",
              "    </tr>\n",
              "    <tr>\n",
              "      <th>4829</th>\n",
              "      <td>2019-05-01</td>\n",
              "      <td>Wyld</td>\n",
              "      <td>6.280397e+05</td>\n",
              "      <td>35304.441109</td>\n",
              "      <td>2.162641</td>\n",
              "      <td>17.789254</td>\n",
              "      <td>0.010153</td>\n",
              "      <td>11162.962026</td>\n",
              "      <td>NaN</td>\n",
              "    </tr>\n",
              "    <tr>\n",
              "      <th>5455</th>\n",
              "      <td>2019-06-01</td>\n",
              "      <td>Wyld</td>\n",
              "      <td>1.064276e+06</td>\n",
              "      <td>59623.346049</td>\n",
              "      <td>0.688834</td>\n",
              "      <td>17.849994</td>\n",
              "      <td>0.003414</td>\n",
              "      <td>35304.441109</td>\n",
              "      <td>15781.349635</td>\n",
              "    </tr>\n",
              "    <tr>\n",
              "      <th>6067</th>\n",
              "      <td>2019-07-01</td>\n",
              "      <td>Wyld</td>\n",
              "      <td>1.379979e+06</td>\n",
              "      <td>74048.747671</td>\n",
              "      <td>0.241942</td>\n",
              "      <td>18.636088</td>\n",
              "      <td>0.044039</td>\n",
              "      <td>59623.346049</td>\n",
              "      <td>35363.583061</td>\n",
              "    </tr>\n",
              "  </tbody>\n",
              "</table>\n",
              "</div>"
            ],
            "text/plain": [
              "         Months Brand  ...  Previous Month (Units)  Rolling Average (Units)\n",
              "3654 2019-03-01  Wyld  ...                     NaN                      NaN\n",
              "4238 2019-04-01  Wyld  ...              876.645770                      NaN\n",
              "4829 2019-05-01  Wyld  ...            11162.962026                      NaN\n",
              "5455 2019-06-01  Wyld  ...            35304.441109             15781.349635\n",
              "6067 2019-07-01  Wyld  ...            59623.346049             35363.583061\n",
              "\n",
              "[5 rows x 9 columns]"
            ]
          },
          "metadata": {},
          "execution_count": 106
        }
      ]
    },
    {
      "cell_type": "markdown",
      "metadata": {
        "id": "uZ33AtrJ5wLy"
      },
      "source": [
        "## 2.2) Augment (Time Series) features by brand, for every brand"
      ]
    },
    {
      "cell_type": "code",
      "metadata": {
        "id": "jnv2pt3a_x4S"
      },
      "source": [
        "# Computation and creation of features for brand-by-brand augment\n",
        "\n",
        "# Calculates total market value for each time (Later used for 'Market Share (%)')\n",
        "dates = ts_data[\"Months\"].unique()\n",
        "totalShareByDate = list()\n",
        "for date in dates:\n",
        "  tot = 0\n",
        "  for i in ts_data.index:\n",
        "    if date == ts_data['Months'][i]:\n",
        "      tot = tot + ts_data['Total Brand Sales ($)'][i]\n",
        "  totalShareByDate.append(tot)\n",
        "\n",
        "# Creates dataframe with market size at each time (Later used for 'Market Share (%)')\n",
        "d = {'Time':dates,'Total Share ($)':totalShareByDate}\n",
        "totShare = pd.DataFrame(data=d)"
      ],
      "execution_count": null,
      "outputs": []
    },
    {
      "cell_type": "code",
      "metadata": {
        "colab": {
          "base_uri": "https://localhost:8080/",
          "height": 970
        },
        "id": "Amog4GYYv7ED",
        "outputId": "01e95e72-4eac-4450-c042-8ffbc98844cd"
      },
      "source": [
        "# Augment features for every brand\n",
        "\n",
        "# Create new dataframe to store augmented data\n",
        "newCol = ['Months', 'Brand', 'Total Brand Sales ($)', 'Total Units',\n",
        "       'vs. Prior Period_x', 'ARP', 'vs. Prior Period_y']\n",
        "ts_data_new = pd.DataFrame(columns=newCol)\n",
        "\n",
        "# Creates list which allow us to iterate through every\n",
        "brands = ts_data[\"Brand\"].unique()\n",
        "\n",
        "# Perform brand-by-brand computations and append to new df\n",
        "for brand in brands:\n",
        "  times = ts_data[ts_data.Brand == brand]\n",
        "\n",
        "  # Insert new column with the year\n",
        "  times['year'] = pd.DatetimeIndex(times['Months']).year\n",
        "\n",
        "  # Insert new column with the quarter of the fiscal year\n",
        "  bins = [0,3,6,9,12] # Creates a new bin for every 3 months\n",
        "  labels = [1,2,3,4] # Q1, Q2, ...\n",
        "  times['quarter'] = pd.cut(pd.DatetimeIndex(times['Months']).month,bins,labels=labels)\n",
        "\n",
        "  # Insert new column with length of time in market\n",
        "  times['length_in_market'] = times.loc[:,'Months'] - pd.DatetimeIndex(times['Months'])[0]\n",
        "\n",
        "  # Insert new column with last month's total units\n",
        "  times.loc[:,'Previous Month (Units)'] = times.loc[:,'Total Units'].shift(1)\n",
        "\n",
        "  # Insert new column with average total units over last 3 months\n",
        "  times.loc[:,'Rolling Average (Units)'] = (times.loc[:,'Total Units'].shift(1) + times.loc[:,'Total Units'].shift(2) + times.loc[:,'Total Units'].shift(3))/3\n",
        "\n",
        "  # Insert new column with market share ('Total Sales of 'brand' at _date_' / 'Total sales of industry at _date_')\n",
        "  dates = ts_data[\"Months\"].unique()\n",
        "  temp = list()\n",
        "\n",
        "  for i in times.index: # For every row in times\n",
        "    for date in dates:  # For every date in the data\n",
        "      if date == times['Months'][i]:  # If the date is the same as that of the current row, calculate market share\n",
        "        val = totShare.loc[totShare.Time == times['Months'][i]]\n",
        "        val = val.iloc[0]['Total Share ($)']\n",
        "        temp.append(times['Total Brand Sales ($)'][i] / val)\n",
        "        break\n",
        "  times['Market Share (%)'] = temp\n",
        "\n",
        "  # Insert new column with last month's total units\n",
        "  times.loc[:,'Previous Month (Market Share)'] = times.loc[:,'Market Share (%)'].shift(1)\n",
        "\n",
        "  # Insert new column with average market share over last 3 months\n",
        "  times.loc[:,'Rolling Average (Market Share)'] = (times.loc[:,'Market Share (%)'].shift(1) + times.loc[:,'Market Share (%)'].shift(2) + times.loc[:,'Market Share (%)'].shift(3))/3\n",
        "\n",
        "  # Append rows to ts_data_new (df including augmented data)\n",
        "  ts_data_new = ts_data_new.append(times)\n",
        "\n",
        "ts_data_new = ts_data_new.reset_index(drop=True)\n",
        "ts_data_new.head(5)"
      ],
      "execution_count": null,
      "outputs": [
        {
          "output_type": "stream",
          "name": "stderr",
          "text": [
            "/usr/local/lib/python3.7/dist-packages/ipykernel_launcher.py:16: SettingWithCopyWarning: \n",
            "A value is trying to be set on a copy of a slice from a DataFrame.\n",
            "Try using .loc[row_indexer,col_indexer] = value instead\n",
            "\n",
            "See the caveats in the documentation: https://pandas.pydata.org/pandas-docs/stable/user_guide/indexing.html#returning-a-view-versus-a-copy\n",
            "  app.launch_new_instance()\n",
            "/usr/local/lib/python3.7/dist-packages/ipykernel_launcher.py:21: SettingWithCopyWarning: \n",
            "A value is trying to be set on a copy of a slice from a DataFrame.\n",
            "Try using .loc[row_indexer,col_indexer] = value instead\n",
            "\n",
            "See the caveats in the documentation: https://pandas.pydata.org/pandas-docs/stable/user_guide/indexing.html#returning-a-view-versus-a-copy\n",
            "/usr/local/lib/python3.7/dist-packages/ipykernel_launcher.py:24: SettingWithCopyWarning: \n",
            "A value is trying to be set on a copy of a slice from a DataFrame.\n",
            "Try using .loc[row_indexer,col_indexer] = value instead\n",
            "\n",
            "See the caveats in the documentation: https://pandas.pydata.org/pandas-docs/stable/user_guide/indexing.html#returning-a-view-versus-a-copy\n",
            "/usr/local/lib/python3.7/dist-packages/pandas/core/indexing.py:1596: SettingWithCopyWarning: \n",
            "A value is trying to be set on a copy of a slice from a DataFrame.\n",
            "Try using .loc[row_indexer,col_indexer] = value instead\n",
            "\n",
            "See the caveats in the documentation: https://pandas.pydata.org/pandas-docs/stable/user_guide/indexing.html#returning-a-view-versus-a-copy\n",
            "  self.obj[key] = _infer_fill_value(value)\n",
            "/usr/local/lib/python3.7/dist-packages/pandas/core/indexing.py:1743: SettingWithCopyWarning: \n",
            "A value is trying to be set on a copy of a slice from a DataFrame.\n",
            "Try using .loc[row_indexer,col_indexer] = value instead\n",
            "\n",
            "See the caveats in the documentation: https://pandas.pydata.org/pandas-docs/stable/user_guide/indexing.html#returning-a-view-versus-a-copy\n",
            "  isetter(ilocs[0], value)\n",
            "/usr/local/lib/python3.7/dist-packages/ipykernel_launcher.py:49: SettingWithCopyWarning: \n",
            "A value is trying to be set on a copy of a slice from a DataFrame.\n",
            "Try using .loc[row_indexer,col_indexer] = value instead\n",
            "\n",
            "See the caveats in the documentation: https://pandas.pydata.org/pandas-docs/stable/user_guide/indexing.html#returning-a-view-versus-a-copy\n"
          ]
        },
        {
          "output_type": "execute_result",
          "data": {
            "text/html": [
              "<div>\n",
              "<style scoped>\n",
              "    .dataframe tbody tr th:only-of-type {\n",
              "        vertical-align: middle;\n",
              "    }\n",
              "\n",
              "    .dataframe tbody tr th {\n",
              "        vertical-align: top;\n",
              "    }\n",
              "\n",
              "    .dataframe thead th {\n",
              "        text-align: right;\n",
              "    }\n",
              "</style>\n",
              "<table border=\"1\" class=\"dataframe\">\n",
              "  <thead>\n",
              "    <tr style=\"text-align: right;\">\n",
              "      <th></th>\n",
              "      <th>Months</th>\n",
              "      <th>Brand</th>\n",
              "      <th>Total Brand Sales ($)</th>\n",
              "      <th>Total Units</th>\n",
              "      <th>vs. Prior Period_x</th>\n",
              "      <th>ARP</th>\n",
              "      <th>vs. Prior Period_y</th>\n",
              "      <th>year</th>\n",
              "      <th>quarter</th>\n",
              "      <th>length_in_market</th>\n",
              "      <th>Previous Month (Sales)</th>\n",
              "      <th>Rolling Average (Sales)</th>\n",
              "      <th>Previous Month (Units)</th>\n",
              "      <th>Rolling Average (Units)</th>\n",
              "      <th>Market Share (%)</th>\n",
              "      <th>Previous Month (Market Share)</th>\n",
              "      <th>Rolling Average (Market Share)</th>\n",
              "    </tr>\n",
              "  </thead>\n",
              "  <tbody>\n",
              "    <tr>\n",
              "      <th>0</th>\n",
              "      <td>2018-09-01</td>\n",
              "      <td>10x Infused</td>\n",
              "      <td>1711.334232</td>\n",
              "      <td>142.839336</td>\n",
              "      <td>-0.833098</td>\n",
              "      <td>11.980833</td>\n",
              "      <td>NaN</td>\n",
              "      <td>2018.0</td>\n",
              "      <td>3</td>\n",
              "      <td>0 days</td>\n",
              "      <td>NaN</td>\n",
              "      <td>NaN</td>\n",
              "      <td>NaN</td>\n",
              "      <td>NaN</td>\n",
              "      <td>0.000007</td>\n",
              "      <td>NaN</td>\n",
              "      <td>NaN</td>\n",
              "    </tr>\n",
              "    <tr>\n",
              "      <th>1</th>\n",
              "      <td>2018-09-01</td>\n",
              "      <td>1964 Supply Co.</td>\n",
              "      <td>25475.215945</td>\n",
              "      <td>2395.534726</td>\n",
              "      <td>-0.184675</td>\n",
              "      <td>10.634459</td>\n",
              "      <td>NaN</td>\n",
              "      <td>2018.0</td>\n",
              "      <td>3</td>\n",
              "      <td>0 days</td>\n",
              "      <td>NaN</td>\n",
              "      <td>NaN</td>\n",
              "      <td>NaN</td>\n",
              "      <td>NaN</td>\n",
              "      <td>0.000111</td>\n",
              "      <td>NaN</td>\n",
              "      <td>NaN</td>\n",
              "    </tr>\n",
              "    <tr>\n",
              "      <th>2</th>\n",
              "      <td>2018-10-01</td>\n",
              "      <td>1964 Supply Co.</td>\n",
              "      <td>13613.214128</td>\n",
              "      <td>1910.329288</td>\n",
              "      <td>-0.202546</td>\n",
              "      <td>7.126109</td>\n",
              "      <td>-0.329904</td>\n",
              "      <td>2018.0</td>\n",
              "      <td>4</td>\n",
              "      <td>30 days</td>\n",
              "      <td>25475.215945</td>\n",
              "      <td>NaN</td>\n",
              "      <td>2395.534726</td>\n",
              "      <td>NaN</td>\n",
              "      <td>0.000061</td>\n",
              "      <td>0.000111</td>\n",
              "      <td>NaN</td>\n",
              "    </tr>\n",
              "    <tr>\n",
              "      <th>3</th>\n",
              "      <td>2018-11-01</td>\n",
              "      <td>1964 Supply Co.</td>\n",
              "      <td>5402.873064</td>\n",
              "      <td>502.815600</td>\n",
              "      <td>-0.736791</td>\n",
              "      <td>10.745238</td>\n",
              "      <td>0.507869</td>\n",
              "      <td>2018.0</td>\n",
              "      <td>4</td>\n",
              "      <td>61 days</td>\n",
              "      <td>13613.214128</td>\n",
              "      <td>NaN</td>\n",
              "      <td>1910.329288</td>\n",
              "      <td>NaN</td>\n",
              "      <td>0.000024</td>\n",
              "      <td>0.000061</td>\n",
              "      <td>NaN</td>\n",
              "    </tr>\n",
              "    <tr>\n",
              "      <th>4</th>\n",
              "      <td>2018-12-01</td>\n",
              "      <td>1964 Supply Co.</td>\n",
              "      <td>11862.458357</td>\n",
              "      <td>2251.347983</td>\n",
              "      <td>3.477482</td>\n",
              "      <td>5.269047</td>\n",
              "      <td>-0.509639</td>\n",
              "      <td>2018.0</td>\n",
              "      <td>4</td>\n",
              "      <td>91 days</td>\n",
              "      <td>5402.873064</td>\n",
              "      <td>14830.434379</td>\n",
              "      <td>502.815600</td>\n",
              "      <td>1602.893205</td>\n",
              "      <td>0.000050</td>\n",
              "      <td>0.000024</td>\n",
              "      <td>0.000065</td>\n",
              "    </tr>\n",
              "  </tbody>\n",
              "</table>\n",
              "</div>"
            ],
            "text/plain": [
              "      Months  ... Rolling Average (Market Share)\n",
              "0 2018-09-01  ...                            NaN\n",
              "1 2018-09-01  ...                            NaN\n",
              "2 2018-10-01  ...                            NaN\n",
              "3 2018-11-01  ...                            NaN\n",
              "4 2018-12-01  ...                       0.000065\n",
              "\n",
              "[5 rows x 17 columns]"
            ]
          },
          "metadata": {},
          "execution_count": 51
        }
      ]
    },
    {
      "cell_type": "markdown",
      "metadata": {
        "id": "bzIt18mNAlp5"
      },
      "source": [
        "# 3) Run some basic statistics on your variables including correlations with labels and report findings"
      ]
    },
    {
      "cell_type": "markdown",
      "metadata": {
        "id": "lZwe_-5QSIjJ"
      },
      "source": [
        "## 3.1) Histograms of all data"
      ]
    },
    {
      "cell_type": "code",
      "metadata": {
        "id": "y3dYaKBBArec",
        "colab": {
          "base_uri": "https://localhost:8080/",
          "height": 1000
        },
        "outputId": "ff51fd57-e939-4c55-e502-246172e3028e"
      },
      "source": [
        "data['Months'].hist(bins=50)\n",
        "data.hist(bins=50, figsize=(30,30))\n",
        "plt.show()\n",
        "\n",
        "# Numeric:\n",
        "#  - Right-skewed: Total Sales($), Total Units, Units Moved vs Prior Period, ARP, \n",
        "#      Units Moved Previous Month, 3 Prev. Month Units Moved Avg, Market Share, \n",
        "#      Previous Month (Market Shares), Rolling Average (Market Share), \n",
        "#      numProducts\n",
        "#  - Narrow normal: ARP vs. Prior Period, Average 3 Mo. Units Growth\n",
        "# Binary: Sells Inhaleables, Concentrates, Pre-Rolled/Flower, Vape Cartridge, \n",
        "#   Sells THC, Sells CBD\n",
        "# Binary (Only 0): Sells Edibles\n",
        "# Categorical (w/o gradient): Year"
      ],
      "execution_count": null,
      "outputs": [
        {
          "output_type": "display_data",
          "data": {
            "image/png": "[encoded data removed]",
            "text/plain": [
              "<Figure size 432x288 with 1 Axes>"
            ]
          },
          "metadata": {
            "needs_background": "light"
          }
        },
        {
          "output_type": "display_data",
          "data": {
            "image/png": "[encoded data removed]",
            "text/plain": [
              "<Figure size 2160x2160 with 16 Axes>"
            ]
          },
          "metadata": {
            "needs_background": "light"
          }
        }
      ]
    },
    {
      "cell_type": "markdown",
      "metadata": {
        "id": "KT2Tuj0MVFLa"
      },
      "source": [
        "## 3.2) Correlation Matrix"
      ]
    },
    {
      "cell_type": "code",
      "metadata": {
        "colab": {
          "base_uri": "https://localhost:8080/",
          "height": 888
        },
        "id": "oDpR4r_SVJVj",
        "outputId": "bcd9dac3-ebb5-465b-deb1-2cfdf7220343"
      },
      "source": [
        "# Load library for making heatmap from correlation matrix\n",
        "import seaborn as sns\n",
        "\n",
        "# Create correlation matrix across\n",
        "corrMat = data.corr(method='pearson')\n",
        "\n",
        "# Create heatmap of correlation matrix\n",
        "fig, ax = plt.subplots(figsize=(12,12))\n",
        "sns.heatmap(corrMat,vmin = -1, vmax = 1, cmap = 'coolwarm', annot = True,ax=ax)\n",
        "\n",
        "# Features with positive correlation: \n",
        "# - Total Units, Units Moved Previous Month, 3 Prev. Month Units Moved Avg, \n",
        "#   Market Share (%), Previous Month (Market Share), Rolling Average (Market \n",
        "#   Share)\n",
        "\n",
        "# Features with mid positive correlation: \n",
        "# - NumProducts, Vape Cartridge\n",
        "\n",
        "# Notable features with no correlation\n",
        "# - The remaining features"
      ],
      "execution_count": null,
      "outputs": [
        {
          "output_type": "execute_result",
          "data": {
            "text/plain": [
              "<matplotlib.axes._subplots.AxesSubplot at 0x7fb231c00050>"
            ]
          },
          "metadata": {},
          "execution_count": 9
        },
        {
          "output_type": "display_data",
          "data": {
            "image/png": "[encoded data removed]",
            "text/plain": [
              "<Figure size 864x864 with 2 Axes>"
            ]
          },
          "metadata": {
            "needs_background": "light"
          }
        }
      ]
    },
    {
      "cell_type": "code",
      "metadata": {
        "colab": {
          "base_uri": "https://localhost:8080/"
        },
        "id": "IodRLp2KGWLL",
        "outputId": "e0781a83-4c11-46e3-a866-497c1482a4cc"
      },
      "source": [
        "data.isna().sum()\n",
        "print(data.shape)\n",
        "\n",
        "print(brandTotalSales.shape)"
      ],
      "execution_count": null,
      "outputs": [
        {
          "output_type": "stream",
          "name": "stdout",
          "text": [
            "(25279, 19)\n",
            "(25279, 3)\n"
          ]
        }
      ]
    },
    {
      "cell_type": "markdown",
      "metadata": {
        "id": "ONQdf9ZnbmSI"
      },
      "source": [
        "# 4) Create additional data feature extraction plan and implement a comprehensive pipeline to execute it"
      ]
    },
    {
      "cell_type": "markdown",
      "metadata": {
        "id": "_P8RlqGvGMzV"
      },
      "source": [
        "## 4.1) Individual (Brand Level) brand features"
      ]
    },
    {
      "cell_type": "code",
      "metadata": {
        "colab": {
          "base_uri": "https://localhost:8080/",
          "height": 642
        },
        "id": "2spWlw4AGRqE",
        "outputId": "7bd57ac6-b6ae-4b49-af01-db93e417eb9f"
      },
      "source": [
        "data = ts_data[ts_data.Brand == '101 Cannabis Co.']\n",
        "\n",
        "# Feature Extraction from 'Category L1'\n",
        "value = 0\n",
        "value1 = 0\n",
        "if 'Inhaleables' in brandDetails['Category L1'].values:\n",
        "    value = 1\n",
        "if 'Edibles' in brandDetails['Category L1'].values:\n",
        "    value1 = 1\n",
        "\n",
        "# Feature Extraction from 'Category L2'\n",
        "value2 = 0\n",
        "value3 = 0\n",
        "if 'Concentrates' in brandDetails['Category L2'].values:\n",
        "    value2 = 1\n",
        "if 'Pre-Rolled' or 'Flower' in brandDetails['Category L2'].values:\n",
        "    value3 = 1\n",
        "\n",
        "# Feature Extraction from 'Category L4'\n",
        "value4 = 0\n",
        "if 'Vape Cartridge' in brandDetails['Category L4'].values:\n",
        "    value4 = 1\n",
        "\n",
        "# Feature Extraction from 'Total THC'\n",
        "value5 = 1\n",
        "if 0 in brandDetails['Total THC'].values:\n",
        "    value5 = 0\n",
        "\n",
        "# Feature Extraction from 'Total CBD'\n",
        "value6 = 1\n",
        "if 0 in brandDetails['Total CBD'].values:\n",
        "    value6 = 0\n",
        "\n",
        "# Add all augmented features to df\n",
        "data.loc[:,'Inhaleables'] = value\n",
        "data.loc[:,'Edible'] = value1\n",
        "data.loc[:,'Concentrates'] = value2\n",
        "data.loc[:,'Pre-Rolled_Flower'] = value3\n",
        "data.loc[:,'Vape Cartridge'] = value4\n",
        "data.loc[:,'Contains THC'] = value5\n",
        "data.loc[:,'Contains CBD'] = value6\n",
        "\n",
        "productcount = (brandDetails[brandDetails.Brand == '101 Cannabis Co.'].count()).iloc[0]\n",
        "data.loc[:,'ProdCount'] = productcount\n",
        "\n",
        "data.head(5)"
      ],
      "execution_count": null,
      "outputs": [
        {
          "output_type": "stream",
          "name": "stderr",
          "text": [
            "/usr/local/lib/python3.7/dist-packages/pandas/core/indexing.py:1596: SettingWithCopyWarning: \n",
            "A value is trying to be set on a copy of a slice from a DataFrame.\n",
            "Try using .loc[row_indexer,col_indexer] = value instead\n",
            "\n",
            "See the caveats in the documentation: https://pandas.pydata.org/pandas-docs/stable/user_guide/indexing.html#returning-a-view-versus-a-copy\n",
            "  self.obj[key] = _infer_fill_value(value)\n",
            "/usr/local/lib/python3.7/dist-packages/pandas/core/indexing.py:1763: SettingWithCopyWarning: \n",
            "A value is trying to be set on a copy of a slice from a DataFrame.\n",
            "Try using .loc[row_indexer,col_indexer] = value instead\n",
            "\n",
            "See the caveats in the documentation: https://pandas.pydata.org/pandas-docs/stable/user_guide/indexing.html#returning-a-view-versus-a-copy\n",
            "  isetter(loc, value)\n"
          ]
        },
        {
          "output_type": "execute_result",
          "data": {
            "text/html": [
              "<div>\n",
              "<style scoped>\n",
              "    .dataframe tbody tr th:only-of-type {\n",
              "        vertical-align: middle;\n",
              "    }\n",
              "\n",
              "    .dataframe tbody tr th {\n",
              "        vertical-align: top;\n",
              "    }\n",
              "\n",
              "    .dataframe thead th {\n",
              "        text-align: right;\n",
              "    }\n",
              "</style>\n",
              "<table border=\"1\" class=\"dataframe\">\n",
              "  <thead>\n",
              "    <tr style=\"text-align: right;\">\n",
              "      <th></th>\n",
              "      <th>Months</th>\n",
              "      <th>Brand</th>\n",
              "      <th>Total Brand Sales ($)</th>\n",
              "      <th>Total Units</th>\n",
              "      <th>vs. Prior Period_x</th>\n",
              "      <th>ARP</th>\n",
              "      <th>vs. Prior Period_y</th>\n",
              "      <th>Inhaleables</th>\n",
              "      <th>Edible</th>\n",
              "      <th>Concentrates</th>\n",
              "      <th>Pre-Rolled_Flower</th>\n",
              "      <th>Vape Cartridge</th>\n",
              "      <th>Contains THC</th>\n",
              "      <th>Contains CBD</th>\n",
              "      <th>ProdCount</th>\n",
              "    </tr>\n",
              "  </thead>\n",
              "  <tbody>\n",
              "    <tr>\n",
              "      <th>7908</th>\n",
              "      <td>2019-11-01</td>\n",
              "      <td>101 Cannabis Co.</td>\n",
              "      <td>4465.040321</td>\n",
              "      <td>131.067720</td>\n",
              "      <td>NaN</td>\n",
              "      <td>34.066667</td>\n",
              "      <td>NaN</td>\n",
              "      <td>1</td>\n",
              "      <td>0</td>\n",
              "      <td>1</td>\n",
              "      <td>1</td>\n",
              "      <td>1</td>\n",
              "      <td>0</td>\n",
              "      <td>0</td>\n",
              "      <td>77</td>\n",
              "    </tr>\n",
              "    <tr>\n",
              "      <th>9146</th>\n",
              "      <td>2020-01-01</td>\n",
              "      <td>101 Cannabis Co.</td>\n",
              "      <td>11790.663567</td>\n",
              "      <td>345.413448</td>\n",
              "      <td>NaN</td>\n",
              "      <td>34.134929</td>\n",
              "      <td>NaN</td>\n",
              "      <td>1</td>\n",
              "      <td>0</td>\n",
              "      <td>1</td>\n",
              "      <td>1</td>\n",
              "      <td>1</td>\n",
              "      <td>0</td>\n",
              "      <td>0</td>\n",
              "      <td>77</td>\n",
              "    </tr>\n",
              "    <tr>\n",
              "      <th>9765</th>\n",
              "      <td>2020-02-01</td>\n",
              "      <td>101 Cannabis Co.</td>\n",
              "      <td>20266.761007</td>\n",
              "      <td>696.658431</td>\n",
              "      <td>1.016883</td>\n",
              "      <td>29.091388</td>\n",
              "      <td>-0.147753</td>\n",
              "      <td>1</td>\n",
              "      <td>0</td>\n",
              "      <td>1</td>\n",
              "      <td>1</td>\n",
              "      <td>1</td>\n",
              "      <td>0</td>\n",
              "      <td>0</td>\n",
              "      <td>77</td>\n",
              "    </tr>\n",
              "    <tr>\n",
              "      <th>10424</th>\n",
              "      <td>2020-03-01</td>\n",
              "      <td>101 Cannabis Co.</td>\n",
              "      <td>30465.470533</td>\n",
              "      <td>943.393328</td>\n",
              "      <td>0.354169</td>\n",
              "      <td>32.293498</td>\n",
              "      <td>0.110071</td>\n",
              "      <td>1</td>\n",
              "      <td>0</td>\n",
              "      <td>1</td>\n",
              "      <td>1</td>\n",
              "      <td>1</td>\n",
              "      <td>0</td>\n",
              "      <td>0</td>\n",
              "      <td>77</td>\n",
              "    </tr>\n",
              "    <tr>\n",
              "      <th>11110</th>\n",
              "      <td>2020-04-01</td>\n",
              "      <td>101 Cannabis Co.</td>\n",
              "      <td>23465.657692</td>\n",
              "      <td>712.498102</td>\n",
              "      <td>-0.244750</td>\n",
              "      <td>32.934344</td>\n",
              "      <td>0.019844</td>\n",
              "      <td>1</td>\n",
              "      <td>0</td>\n",
              "      <td>1</td>\n",
              "      <td>1</td>\n",
              "      <td>1</td>\n",
              "      <td>0</td>\n",
              "      <td>0</td>\n",
              "      <td>77</td>\n",
              "    </tr>\n",
              "  </tbody>\n",
              "</table>\n",
              "</div>"
            ],
            "text/plain": [
              "          Months             Brand  ...  Contains CBD  ProdCount\n",
              "7908  2019-11-01  101 Cannabis Co.  ...             0         77\n",
              "9146  2020-01-01  101 Cannabis Co.  ...             0         77\n",
              "9765  2020-02-01  101 Cannabis Co.  ...             0         77\n",
              "10424 2020-03-01  101 Cannabis Co.  ...             0         77\n",
              "11110 2020-04-01  101 Cannabis Co.  ...             0         77\n",
              "\n",
              "[5 rows x 15 columns]"
            ]
          },
          "metadata": {},
          "execution_count": 117
        }
      ]
    },
    {
      "cell_type": "markdown",
      "metadata": {
        "id": "bVGvBGyZGlvv"
      },
      "source": [
        "## 4.2) Augment (Brand Level) features by brand, for every brand"
      ]
    },
    {
      "cell_type": "code",
      "metadata": {
        "colab": {
          "base_uri": "https://localhost:8080/",
          "height": 642
        },
        "id": "6_wqjMRBGq30",
        "outputId": "68f7e123-b003-41ce-ce81-a1ac25bc6277"
      },
      "source": [
        "# Create new dataframe to store augmented data\n",
        "newCol = ['Months', 'Brand', 'Total Brand Sales ($)', 'Total Units',\n",
        "       'vs. Prior Period_x', 'ARP', 'vs. Prior Period_y']\n",
        "ts_data_new_BL = pd.DataFrame(columns=newCol)\n",
        "\n",
        "# Creates list which allow us to iterate through every\n",
        "brands = ts_data_new[\"Brand\"].unique()\n",
        "\n",
        "# Perform brand-by-brand computations and append to new df\n",
        "for brand in brands:\n",
        "\n",
        "  data = ts_data_new[ts_data_new.Brand == brand]\n",
        "\n",
        "  # Feature Extraction from 'Category L1'\n",
        "  value = 0\n",
        "  value1 = 0\n",
        "  if 'Inhaleables' in brandDetails['Category L1'].values:\n",
        "      value = 1\n",
        "  if 'Edibles' in brandDetails['Category L1'].values:\n",
        "      value1 = 1\n",
        "\n",
        "  # Feature Extraction from 'Category L2'\n",
        "  value2 = 0\n",
        "  value3 = 0\n",
        "  if 'Concentrates' in brandDetails['Category L2'].values:\n",
        "      value2 = 1\n",
        "  if 'Pre-Rolled' or 'Flower' in brandDetails['Category L2'].values:\n",
        "      value3 = 1\n",
        "\n",
        "  # Feature Extraction from 'Category L4'\n",
        "  value4 = 0\n",
        "  if 'Vape Cartridge' in brandDetails['Category L4'].values:\n",
        "      value4 = 1\n",
        "\n",
        "  # Feature Extraction from 'Total THC'\n",
        "  value5 = 1\n",
        "  if 0 in brandDetails['Total THC'].values:\n",
        "      value5 = 0\n",
        "\n",
        "  # Feature Extraction from 'Total CBD'\n",
        "  value6 = 1\n",
        "  if 0 in brandDetails['Total CBD'].values:\n",
        "      value6 = 0\n",
        "\n",
        "  # Add all augmented features to df\n",
        "  data.loc[:,'Inhaleables'] = value\n",
        "  data.loc[:,'Edible'] = value1\n",
        "  data.loc[:,'Concentrates'] = value2\n",
        "  data.loc[:,'Pre-Rolled_Flower'] = value3\n",
        "  data.loc[:,'Vape Cartridge'] = value4\n",
        "  data.loc[:,'Contains THC'] = value5\n",
        "  data.loc[:,'Contains CBD'] = value6\n",
        "\n",
        "  productcount = (brandDetails[brandDetails.Brand == '101 Cannabis Co.'].count()).iloc[0]\n",
        "  data.loc[:,'ProdCount'] = productcount\n",
        "\n",
        "  # Append rows to ts_data_new (df including augmented data)\n",
        "  ts_data_new_BL = ts_data_new_BL.append(data)\n",
        "\n",
        "ts_data_new_BL = ts_data_new_BL.reset_index(drop=True)\n",
        "ts_data_new_BL.head(5)"
      ],
      "execution_count": null,
      "outputs": [
        {
          "output_type": "stream",
          "name": "stderr",
          "text": [
            "/usr/local/lib/python3.7/dist-packages/pandas/core/indexing.py:1596: SettingWithCopyWarning: \n",
            "A value is trying to be set on a copy of a slice from a DataFrame.\n",
            "Try using .loc[row_indexer,col_indexer] = value instead\n",
            "\n",
            "See the caveats in the documentation: https://pandas.pydata.org/pandas-docs/stable/user_guide/indexing.html#returning-a-view-versus-a-copy\n",
            "  self.obj[key] = _infer_fill_value(value)\n",
            "/usr/local/lib/python3.7/dist-packages/pandas/core/indexing.py:1763: SettingWithCopyWarning: \n",
            "A value is trying to be set on a copy of a slice from a DataFrame.\n",
            "Try using .loc[row_indexer,col_indexer] = value instead\n",
            "\n",
            "See the caveats in the documentation: https://pandas.pydata.org/pandas-docs/stable/user_guide/indexing.html#returning-a-view-versus-a-copy\n",
            "  isetter(loc, value)\n"
          ]
        },
        {
          "output_type": "execute_result",
          "data": {
            "text/html": [
              "<div>\n",
              "<style scoped>\n",
              "    .dataframe tbody tr th:only-of-type {\n",
              "        vertical-align: middle;\n",
              "    }\n",
              "\n",
              "    .dataframe tbody tr th {\n",
              "        vertical-align: top;\n",
              "    }\n",
              "\n",
              "    .dataframe thead th {\n",
              "        text-align: right;\n",
              "    }\n",
              "</style>\n",
              "<table border=\"1\" class=\"dataframe\">\n",
              "  <thead>\n",
              "    <tr style=\"text-align: right;\">\n",
              "      <th></th>\n",
              "      <th>Months</th>\n",
              "      <th>Brand</th>\n",
              "      <th>Total Brand Sales ($)</th>\n",
              "      <th>Total Units</th>\n",
              "      <th>vs. Prior Period_x</th>\n",
              "      <th>ARP</th>\n",
              "      <th>vs. Prior Period_y</th>\n",
              "      <th>year</th>\n",
              "      <th>quarter</th>\n",
              "      <th>length_in_market</th>\n",
              "      <th>Previous Month (Sales)</th>\n",
              "      <th>Rolling Average (Sales)</th>\n",
              "      <th>Previous Month (Units)</th>\n",
              "      <th>Rolling Average (Units)</th>\n",
              "      <th>Market Share (%)</th>\n",
              "      <th>Previous Month (Market Share)</th>\n",
              "      <th>Rolling Average (Market Share)</th>\n",
              "      <th>Inhaleables</th>\n",
              "      <th>Edible</th>\n",
              "      <th>Concentrates</th>\n",
              "      <th>Pre-Rolled_Flower</th>\n",
              "      <th>Vape Cartridge</th>\n",
              "      <th>Contains THC</th>\n",
              "      <th>Contains CBD</th>\n",
              "      <th>ProdCount</th>\n",
              "    </tr>\n",
              "  </thead>\n",
              "  <tbody>\n",
              "    <tr>\n",
              "      <th>0</th>\n",
              "      <td>2018-09-01</td>\n",
              "      <td>10x Infused</td>\n",
              "      <td>1711.334232</td>\n",
              "      <td>142.839336</td>\n",
              "      <td>-0.833098</td>\n",
              "      <td>11.980833</td>\n",
              "      <td>NaN</td>\n",
              "      <td>2018.0</td>\n",
              "      <td>3</td>\n",
              "      <td>0 days</td>\n",
              "      <td>NaN</td>\n",
              "      <td>NaN</td>\n",
              "      <td>NaN</td>\n",
              "      <td>NaN</td>\n",
              "      <td>0.000007</td>\n",
              "      <td>NaN</td>\n",
              "      <td>NaN</td>\n",
              "      <td>1.0</td>\n",
              "      <td>0.0</td>\n",
              "      <td>1.0</td>\n",
              "      <td>1.0</td>\n",
              "      <td>1.0</td>\n",
              "      <td>0.0</td>\n",
              "      <td>0.0</td>\n",
              "      <td>77.0</td>\n",
              "    </tr>\n",
              "    <tr>\n",
              "      <th>1</th>\n",
              "      <td>2018-09-01</td>\n",
              "      <td>1964 Supply Co.</td>\n",
              "      <td>25475.215945</td>\n",
              "      <td>2395.534726</td>\n",
              "      <td>-0.184675</td>\n",
              "      <td>10.634459</td>\n",
              "      <td>NaN</td>\n",
              "      <td>2018.0</td>\n",
              "      <td>3</td>\n",
              "      <td>0 days</td>\n",
              "      <td>NaN</td>\n",
              "      <td>NaN</td>\n",
              "      <td>NaN</td>\n",
              "      <td>NaN</td>\n",
              "      <td>0.000111</td>\n",
              "      <td>NaN</td>\n",
              "      <td>NaN</td>\n",
              "      <td>1.0</td>\n",
              "      <td>0.0</td>\n",
              "      <td>1.0</td>\n",
              "      <td>1.0</td>\n",
              "      <td>1.0</td>\n",
              "      <td>0.0</td>\n",
              "      <td>0.0</td>\n",
              "      <td>77.0</td>\n",
              "    </tr>\n",
              "    <tr>\n",
              "      <th>2</th>\n",
              "      <td>2018-10-01</td>\n",
              "      <td>1964 Supply Co.</td>\n",
              "      <td>13613.214128</td>\n",
              "      <td>1910.329288</td>\n",
              "      <td>-0.202546</td>\n",
              "      <td>7.126109</td>\n",
              "      <td>-0.329904</td>\n",
              "      <td>2018.0</td>\n",
              "      <td>4</td>\n",
              "      <td>30 days</td>\n",
              "      <td>25475.215945</td>\n",
              "      <td>NaN</td>\n",
              "      <td>2395.534726</td>\n",
              "      <td>NaN</td>\n",
              "      <td>0.000061</td>\n",
              "      <td>0.000111</td>\n",
              "      <td>NaN</td>\n",
              "      <td>1.0</td>\n",
              "      <td>0.0</td>\n",
              "      <td>1.0</td>\n",
              "      <td>1.0</td>\n",
              "      <td>1.0</td>\n",
              "      <td>0.0</td>\n",
              "      <td>0.0</td>\n",
              "      <td>77.0</td>\n",
              "    </tr>\n",
              "    <tr>\n",
              "      <th>3</th>\n",
              "      <td>2018-11-01</td>\n",
              "      <td>1964 Supply Co.</td>\n",
              "      <td>5402.873064</td>\n",
              "      <td>502.815600</td>\n",
              "      <td>-0.736791</td>\n",
              "      <td>10.745238</td>\n",
              "      <td>0.507869</td>\n",
              "      <td>2018.0</td>\n",
              "      <td>4</td>\n",
              "      <td>61 days</td>\n",
              "      <td>13613.214128</td>\n",
              "      <td>NaN</td>\n",
              "      <td>1910.329288</td>\n",
              "      <td>NaN</td>\n",
              "      <td>0.000024</td>\n",
              "      <td>0.000061</td>\n",
              "      <td>NaN</td>\n",
              "      <td>1.0</td>\n",
              "      <td>0.0</td>\n",
              "      <td>1.0</td>\n",
              "      <td>1.0</td>\n",
              "      <td>1.0</td>\n",
              "      <td>0.0</td>\n",
              "      <td>0.0</td>\n",
              "      <td>77.0</td>\n",
              "    </tr>\n",
              "    <tr>\n",
              "      <th>4</th>\n",
              "      <td>2018-12-01</td>\n",
              "      <td>1964 Supply Co.</td>\n",
              "      <td>11862.458357</td>\n",
              "      <td>2251.347983</td>\n",
              "      <td>3.477482</td>\n",
              "      <td>5.269047</td>\n",
              "      <td>-0.509639</td>\n",
              "      <td>2018.0</td>\n",
              "      <td>4</td>\n",
              "      <td>91 days</td>\n",
              "      <td>5402.873064</td>\n",
              "      <td>14830.434379</td>\n",
              "      <td>502.815600</td>\n",
              "      <td>1602.893205</td>\n",
              "      <td>0.000050</td>\n",
              "      <td>0.000024</td>\n",
              "      <td>0.000065</td>\n",
              "      <td>1.0</td>\n",
              "      <td>0.0</td>\n",
              "      <td>1.0</td>\n",
              "      <td>1.0</td>\n",
              "      <td>1.0</td>\n",
              "      <td>0.0</td>\n",
              "      <td>0.0</td>\n",
              "      <td>77.0</td>\n",
              "    </tr>\n",
              "  </tbody>\n",
              "</table>\n",
              "</div>"
            ],
            "text/plain": [
              "      Months            Brand  ...  Contains CBD  ProdCount\n",
              "0 2018-09-01      10x Infused  ...           0.0       77.0\n",
              "1 2018-09-01  1964 Supply Co.  ...           0.0       77.0\n",
              "2 2018-10-01  1964 Supply Co.  ...           0.0       77.0\n",
              "3 2018-11-01  1964 Supply Co.  ...           0.0       77.0\n",
              "4 2018-12-01  1964 Supply Co.  ...           0.0       77.0\n",
              "\n",
              "[5 rows x 25 columns]"
            ]
          },
          "metadata": {},
          "execution_count": 119
        }
      ]
    },
    {
      "cell_type": "markdown",
      "metadata": {
        "id": "YAi0Hwigi0vm"
      },
      "source": [
        "## 4.3) Brand Details additional augments explanations"
      ]
    },
    {
      "cell_type": "markdown",
      "metadata": {
        "id": "ajJblR5xjlz_"
      },
      "source": [
        "**State**: All 'California' (DROP)\n",
        "\n",
        "**Channel**: All 'Licensed' (DROP)\n",
        "\n",
        "**Category L1**: Majority 'Inhaleables' (Inhaleables vs other)\n",
        "\n",
        "**Category L2**: Majority 'Concentrates'\n",
        "- Split (Concentrates), (Pre-Rolled, Flower), other\n",
        "\n",
        "**Category L3**: No large majority (DROP)\n",
        "\n",
        "**Category L4**: Majority 'Vape Cartridge' (Vape Cartridge vs other)\n",
        "\n",
        "**Category L5**: Too many null (DROP)\n",
        "\n",
        "**Brand**: Use for linking\n",
        "\n",
        "**Product Description**: All unique (DROP)\n",
        "\n",
        "**Total Sales($)**: No correlation to ts_data (DROP)\n",
        "\n",
        "**Total Units**: No correlation to ts_data (DROP)\n",
        "\n",
        "**ARP**: No correlation to ts_data (DROP)\n",
        "\n",
        "**Flavor**: Too many null (DROP)\n",
        "\n",
        "**Items Per Pack**: Majority 0, meaningless (DROP)\n",
        "\n",
        "**Item Weight**: Too many null (DROP)\n",
        "\n",
        "**Total THC**: Majority 0, (0 vs other)\n",
        "\n",
        "**Total CBD**: Majority 0, (0 vs other)\n",
        "\n",
        "**Contains CBD**: 2 categories - THC Only, Contains CBD (one-hot-encode)\n",
        "\n",
        "**Pax Filter**: Too many null (DROP)\n",
        "\n",
        "**Strain**: >5000 (5824) unique string values (DROP)\n",
        "\n",
        "**Mood Effect**: 2 categories - Not Mood Specific, Mood Specific (one-hot-encode)\n",
        "\n",
        "**Generic Vendor**: 2 categories - Non-Generic Vendor, Generic Vendor (one-hot-encode)\n",
        "\n",
        "**Generic Items**: 2 categories - Non-Generic Items, Generic Items (one-hot-encode)\n",
        "\n",
        "**5 Dollar Price Increment**: Could convert to numeric feature at end of range and divide into >30 and <30 since $30 is roughly the median "
      ]
    },
    {
      "cell_type": "markdown",
      "metadata": {
        "id": "eG5XBJOnRc_K"
      },
      "source": [
        "## 4.4) Comprehensive Feature Augmentation Pipeline"
      ]
    },
    {
      "cell_type": "code",
      "metadata": {
        "id": "84ni01mdb_ur"
      },
      "source": [
        "def merge_clean_data(brandAvgRetailPrice,brandDetails,brandTotalSales,brandTotalUnits):\n",
        "  # Merge BrandTotalSales.csv, BrandTotalUnits.csv, and BrandAverageRetailPrice.csv\n",
        "  ts_data = brandTotalUnits.merge(brandTotalSales,left_on=['Brands','Months'],right_on=['Brand','Months'])\n",
        "  ts_data = ts_data.merge(brandAvgRetailPrice,left_on=['Brands','Months'],right_on=['Brands','Months'])\n",
        "  ts_data = ts_data.drop(columns=['Brands'])\n",
        "\n",
        "  # === Change data to correct dtype ===\n",
        "\n",
        "  # Convert 'Months' col to datetime dtype\n",
        "  ts_data['Months'] = pd.to_datetime(ts_data['Months'], format='%m/%Y')\n",
        "\n",
        "  # Convert Total Units and Total Sales to float (and Remove all commas from df)\n",
        "  ts_data.loc[:, 'Total Units'] = ts_data['Total Units'].str.replace(',', '').str[:8]\n",
        "  ts_data['Total Units'] = pd.to_numeric(ts_data['Total Units'])\n",
        "  ts_data.loc[:, 'Total Sales ($)'] = ts_data['Total Sales ($)'].str.replace(',', '').str[:8]\n",
        "  ts_data['Total Sales ($)'] = pd.to_numeric(ts_data['Total Sales ($)'])\n",
        "  ts_data['ARP'] = pd.to_numeric(ts_data['ARP'])\n",
        "  # ====================================\n",
        "  return ts_data"
      ],
      "execution_count": null,
      "outputs": []
    },
    {
      "cell_type": "code",
      "metadata": {
        "id": "c1VcoGC2d5K9"
      },
      "source": [
        "def augment_data(ts_data,brandDetails):\n",
        "\n",
        "  # Clean brandDetails (make relevant columns numeric)\n",
        "  #brandDetails = brandDetails.replace(',','',regex=True)\n",
        "  #brandDetails['Total THC'] = pd.to_numeric(brandDetails['Total THC'])\n",
        "  #brandDetails['Total CBD'] = pd.to_numeric(brandDetails['Total CBD'])\n",
        "\n",
        "  # == Precomputation of Market Sizes ==\n",
        "  # Calculates total market value for each time (Later used for 'Market Share (%)')\n",
        "  dates = ts_data[\"Months\"].unique()\n",
        "  totalShareByDate = list()\n",
        "  for date in dates:\n",
        "    tot = 0\n",
        "    for i in ts_data.index:\n",
        "      if date == ts_data['Months'][i]:\n",
        "        tot = tot + ts_data['Total Sales ($)'][i]\n",
        "    totalShareByDate.append(tot)\n",
        "\n",
        "  # Creates dataframe with market size at each time (Later used for 'Market Share (%)')\n",
        "  d = {'Time':dates,'Total Share ($)':totalShareByDate}\n",
        "  totShare = pd.DataFrame(data=d)\n",
        "  # ====================================\n",
        "\n",
        "  # Create new dataframe to store augmented data\n",
        "  newCol = ['Months', 'Brand', 'Total Sales ($)', 'Total Units',\n",
        "        'vs. Prior Period_x', 'ARP', 'vs. Prior Period_y']\n",
        "  ts_data_new = pd.DataFrame(columns=newCol)\n",
        "\n",
        "  # Creates list which allow us to iterate through every\n",
        "  brands = ts_data[\"Brand\"].unique()\n",
        "\n",
        "  # Perform brand-by-brand computations and append to new df\n",
        "  for brand in brands:\n",
        "    data = ts_data[ts_data.Brand == brand]\n",
        "\n",
        "    #CHECK FOR SIZE 0 DATAFRAME AFTER MERGES/COPY\n",
        "    if len(data) == 0:\n",
        "        continue\n",
        "\n",
        "    # === Time Series Feature Extraction ===\n",
        "    #grab datetime values\n",
        "    datetimes = pd.DatetimeIndex(data['Months'])\n",
        "    \n",
        "    # Insert new column with ARP Increase over Previous 2 Months\n",
        "    data.loc[:,'ARP Increase Previous 2 Months ($)'] = data.loc[:,'ARP'].shift(1) - data.loc[:,'ARP'].shift(2)\n",
        "\n",
        "    # Insert new column with the year\n",
        "    data.loc[:,'Year'] = datetimes.year\n",
        "\n",
        "    # Insert new column with the quarter of the fiscal year\n",
        "    bins = [0,3,6,9,12] # Creates a new bin for every 3 months\n",
        "    labels = [1,2,3,4] # Q1, Q2, ...\n",
        "    data.loc[:,'Quarter'] = pd.cut(datetimes.month, bins, labels=labels)\n",
        "\n",
        "    # Insert new column with length of time in market\n",
        "    data.loc[:,'Length_In_Market'] = data.loc[:,'Months'] - datetimes[0]\n",
        "\n",
        "    # Insert new column with last month's total units\n",
        "    data.loc[:,'Units Moved Previous Month'] = data.loc[:,'Total Units'].shift(1)\n",
        "\n",
        "    # Insert new column with average total units over last 3 months\n",
        "    data.loc[:,'3 Prev. Month Units Moved Avg.'] = (data.loc[:,'Total Units'].shift(1) + data.loc[:,'Total Units'].shift(2) + data.loc[:,'Total Units'].shift(3))/3\n",
        "\n",
        "    # Insert new column with average unit movement growth\n",
        "    data.loc[:,'Average 3 Mo. Units Growth'] = ((data.loc[:,'Total Units'].shift(1) - data.loc[:,'Total Units'].shift(2)) + (data.loc[:,'Total Units'].shift(2) - data.loc[:,'Total Units'].shift(3))) / 2\n",
        "\n",
        "    # Insert new column with market share ('Total Sales of 'brand' at _date_' / 'Total sales of industry at _date_')\n",
        "    dates = ts_data[\"Months\"].unique()\n",
        "    temp = list()\n",
        "\n",
        "    for i in data.index: # For every row in data\n",
        "      for date in dates:  # For every date in the data\n",
        "        if date == data['Months'][i]:  # If the date is the same as that of the current row, calculate market share\n",
        "          totalMarket = totShare[totShare.Time == data.loc[i,'Months']]\n",
        "          totalMarket = totalMarket.iloc[0]['Total Share ($)']\n",
        "          temp.append(data.loc[i,'Total Sales ($)'] / totalMarket)\n",
        "          break\n",
        "    data['Market Share (%)'] = temp\n",
        "\n",
        "    #Insert new column with % market share growth over previous 2 months\n",
        "    data.loc[:, 'Market Share Growth (% of Market) Prev. 2 Mo.'] = data.loc[:,'Market Share (%)'].shift(1) - data.loc[:,'Market Share (%)'].shift(2)\n",
        "\n",
        "    # Insert new column with last month's total units\n",
        "    data.loc[:,'Previous Month (Market Share)'] = data.loc[:,'Market Share (%)'].shift(1)\n",
        "\n",
        "    # Insert new column with average market share over last 3 months\n",
        "    data.loc[:,'Rolling Average (Market Share)'] = (data.loc[:,'Market Share (%)'].shift(1) + data.loc[:,'Market Share (%)'].shift(2) + data.loc[:,'Market Share (%)'].shift(3))/3\n",
        "\n",
        "    # === Brand Level Feature Extraction ===\n",
        "    # Modified from Daniel's pipeline\n",
        "    testdets = brandDetails[brandDetails.Brand == brand]\n",
        "\n",
        "    # Feature Extraction from 'Category L1'\n",
        "    value = 0\n",
        "    value1 = 0\n",
        "    if 'Inhaleables' in testdets['Category L1'].values:\n",
        "        value = 1\n",
        "    if 'Ingestibles' in testdets['Category L1'].values:\n",
        "        value1 = 1\n",
        "\n",
        "    # Feature Extraction from 'Category L2'\n",
        "    value2 = 0\n",
        "    value3 = 0\n",
        "    if 'Concentrates' in testdets['Category L2'].values:\n",
        "        value2 = 1\n",
        "    if 'Pre-Rolled' in testdets['Category L2'].values or 'Flower' in testdets['Category L2'].values:\n",
        "        value3 = 1\n",
        "\n",
        "    # Feature Extraction from 'Category L4'\n",
        "    value4 = 0\n",
        "    if 'Vape Cartridge' in testdets['Category L4'].values:\n",
        "        value4 = 1\n",
        "\n",
        "    # Feature Extraction from 'Total THC' --> Are there any THC contents nonzero\n",
        "    value5 = 0\n",
        "    if np.any(testdets['Total THC'].values):\n",
        "        value5 = 1\n",
        "\n",
        "    # Feature Extraction from 'Total CBD' --> Are there any CBD contents nonzero\n",
        "    value6 = 0\n",
        "    if np.any(testdets['Total CBD'].values):\n",
        "        value6 = 1\n",
        "\n",
        "    # Add all augmented features to df\n",
        "    data.loc[:,'Sells Inhaleables'] = value\n",
        "    data.loc[:,'Sells Ingestibles'] = value1\n",
        "    data.loc[:,'Concentrates'] = value2\n",
        "    data.loc[:,'Pre-Rolled/Flower'] = value3\n",
        "    data.loc[:,'Vape Cartridge'] = value4\n",
        "    data.loc[:,'Sells THC'] = value5\n",
        "    data.loc[:,'Sells CBD'] = value6\n",
        "\n",
        "    #add a categorical for the majority product\n",
        "    edibles_ct = 0\n",
        "    inhaleables_ct = 0\n",
        "    try:\n",
        "        edibles_ct = testdets['Category L1'].value_counts()['Edibles']\n",
        "    except KeyError:\n",
        "        edibles_ct = 0\n",
        "    try:\n",
        "        inhaleables_ct = testdets['Category L1'].value_counts()['Inhaleables']\n",
        "    except KeyError:\n",
        "        edibles_ct = 0\n",
        "\n",
        "    majority = np.nan\n",
        "    if inhaleables_ct == edibles_ct:\n",
        "        majority = 'Tie'\n",
        "    elif inhaleables_ct > edibles_ct:\n",
        "        majority = 'Inhaleables'\n",
        "    else:\n",
        "        majority = 'Edibles'\n",
        "\n",
        "    data.loc[:, 'Product Majority'] = majority\n",
        "\n",
        "    productcount = (testdets[testdets.Brand == brand].count()).iloc[0]\n",
        "    data.loc[:,'NumProducts'] = productcount\n",
        "\n",
        "    # Append rows to ts_data_new (df including augmented data)\n",
        "    ts_data_new = ts_data_new.append(data)\n",
        "\n",
        "  ts_data_new.rename(columns={\"vs. Prior Period_x\": \"Units Moved vs. Prior Period\", \"vs. Prior Period_y\": \"ARP vs. Prior Period\",\"Brand\":\"Brands\"}, inplace = True)\n",
        "  ts_data_new = ts_data_new.reset_index(drop=True)  \n",
        "  return ts_data_new"
      ],
      "execution_count": null,
      "outputs": []
    },
    {
      "cell_type": "markdown",
      "metadata": {
        "id": "_18TO1A00YqJ"
      },
      "source": [
        "### Shows that multiple rows with same brand and date do NOT exist"
      ]
    },
    {
      "cell_type": "code",
      "metadata": {
        "colab": {
          "base_uri": "https://localhost:8080/"
        },
        "id": "XydREMxboo5q",
        "outputId": "94b8f1d4-19d1-40a1-c8d1-a40cb77f3e0b"
      },
      "source": [
        "# Shows that multiple rows with same brand and date do NOT exist\n",
        "unit_sales = pd.merge(brandTotalUnits,brandTotalSales,how='inner',left_on=['Brands','Months'],right_on=['Brand','Months'])\n",
        "usARP = pd.merge(unit_sales,brandAvgRetailPrice,how='inner',left_on=['Brands','Months'],right_on=['Brands','Months'])\n",
        "ts_data = usARP.drop(columns=['Brands'])\n",
        "twoCol = ts_data[['Months','Brand']]\n",
        "\n",
        "brands = twoCol['Brand'].unique()\n",
        "count = 0\n",
        "for brand in brands:\n",
        "  temp = twoCol[twoCol.Brand == brand]\n",
        "  if temp.shape[0] != len(temp['Months'].unique()):\n",
        "    count = count + 1\n",
        "\n",
        "print(count)"
      ],
      "execution_count": null,
      "outputs": [
        {
          "output_type": "stream",
          "name": "stdout",
          "text": [
            "0\n"
          ]
        }
      ]
    },
    {
      "cell_type": "markdown",
      "metadata": {
        "id": "0iVavVrkbukF"
      },
      "source": [
        "# 5) Implement a single pipeline to execute this transformation"
      ]
    },
    {
      "cell_type": "markdown",
      "metadata": {
        "id": "PruQst2CRp_x"
      },
      "source": [
        "## 5.1) Single Pipeline to augment, impute, and drop features"
      ]
    },
    {
      "cell_type": "code",
      "metadata": {
        "id": "535tL3k0RpQG"
      },
      "source": [
        "from sklearn.pipeline import Pipeline\n",
        "from sklearn.preprocessing import StandardScaler\n",
        "\n",
        "# Add imputation and drop\n",
        "def drops_and_imputation(data):\n",
        "    newdata = data.drop(axis = 1, labels = ['Product Majority', 'Brands', 'Months', 'Sells CBD', '3 Prev. Month Units Moved Avg.', 'Total Units', 'Units Moved vs. Prior Period', 'Units Moved Previous Month', 'Market Share (%)', 'Previous Month (Market Share)', 'Rolling Average (Market Share)'])\n",
        "    newdata['Average 3 Mo. Units Growth'].fillna(0, inplace = True)\n",
        "    newdata['ARP'].fillna(data['ARP'].median(), inplace = True)\n",
        "    newdata['ARP vs. Prior Period'].fillna(0, inplace = True)\n",
        "    newdata['ARP Increase Previous 2 Months ($)'].fillna(0, inplace = True)\n",
        "    newdata['Market Share Growth (% of Market) Prev. 2 Mo.'].fillna(0, inplace = True)\n",
        "    \n",
        "    #One-hot encode dummy variables\n",
        "    quarter_dummies = pd.get_dummies(newdata.Quarter, prefix='quarter')\n",
        "    #majority_dummies = pd.get_dummies(newdata['Product Majority'], prefix = 'majority')\n",
        "    \n",
        "    newdata = pd.concat(objs = [newdata, quarter_dummies], axis=1)\n",
        "    newdata = newdata.drop(axis = 1, labels = ['Quarter'])\n",
        "    \n",
        "    #Fix length in market to reflect days as integers\n",
        "    newdata['Length In Market (Days)'] = newdata['Length_In_Market'] / np.timedelta64(1, 'D')\n",
        "    newdata = newdata.drop(axis = 1, labels = ['Length_In_Market'])\n",
        "    return newdata\n",
        "\n",
        "def pipeline(brandAvgRetailPrice,brandDetails,brandTotalSales,brandTotalUnits):\n",
        "  merged_data = merge_clean_data(brandAvgRetailPrice,brandDetails,brandTotalSales,brandTotalUnits)\n",
        "  augmented_data = augment_data(merged_data,brandDetails)\n",
        "  data = drops_and_imputation(augmented_data)\n",
        "  \n",
        "  cols = ['Total Sales ($)', 'ARP', 'ARP vs. Prior Period',\n",
        "       'Average 3 Mo. Units Growth', 'Sells Ingestibles',\n",
        "       'Sells Inhaleables', 'Concentrates', 'Pre-Rolled/Flower',\n",
        "       'Vape Cartridge', 'Sells THC', 'NumProducts', \n",
        "        'ARP Increase Previous 2 Months ($)', 'Year',\n",
        "        'Market Share Growth (% of Market) Prev. 2 Mo.', 'quarter_1', 'quarter_2',\n",
        "       'quarter_3', 'quarter_4', 'Length In Market (Days)']\n",
        "\n",
        "  data_prepared = data[cols] # Align with partner's columns\n",
        "  \n",
        "  return (cols,data_prepared)\n",
        "\n",
        "def sep_split_scale(data,splitVal):\n",
        "  #6) SEPARATE TARGET\n",
        "  target = data['Total Sales ($)']\n",
        "  features = data.drop(axis = 1, labels = ['Total Sales ($)'])\n",
        "\n",
        "  #7) TRAIN TEST SPLIT (NEED TO DO BEFORE STANDARD SCALING SO AS NOT TO INTRODUCE MEAN/VAR OF TEST SET INTO MODELING)\n",
        "  #train test split with 15% test size\n",
        "  x_train, x_test, y_train, y_test = train_test_split(features, target, test_size = splitVal, random_state = 0)\n",
        "\n",
        "  #8) PERFORM STANDARD SCALING\n",
        "  pip = Pipeline([('std_scaler', StandardScaler())])\n",
        "  x_train = pip.fit_transform(x_train)\n",
        "  x_test = pip.transform(x_test)\n",
        "  return (target, features, x_train, x_test, y_train, y_test)\n"
      ],
      "execution_count": null,
      "outputs": []
    },
    {
      "cell_type": "markdown",
      "metadata": {
        "id": "DE38afQH1t1J"
      },
      "source": [
        "## 5.2) Test that pipeline works properly and Prepare for ML"
      ]
    },
    {
      "cell_type": "code",
      "metadata": {
        "id": "ayoqcg_UXNS6",
        "colab": {
          "base_uri": "https://localhost:8080/"
        },
        "outputId": "d66d89e2-7d29-46d6-aecc-279670fde372"
      },
      "source": [
        "# Test that pipeline() functions properly\n",
        "data = pipeline(brandAvgRetailPrice,brandDetails,brandTotalSales,brandTotalUnits)\n",
        "data_sss = sep_split_scale(data[1],0.15)\n",
        "cols = data[0][1:]\n",
        "target = data_sss[0]\n",
        "features = data_sss[1]\n",
        "x_train = data_sss[2]\n",
        "x_test = data_sss[3]\n",
        "y_train = data_sss[4]\n",
        "y_test = data_sss[5]\n",
        "\n",
        "print(cols)\n",
        "print(np.shape(x_train))\n",
        "print(np.shape(x_test))\n",
        "print(np.shape(y_train))\n",
        "print(np.shape(y_test))"
      ],
      "execution_count": null,
      "outputs": [
        {
          "output_type": "stream",
          "name": "stderr",
          "text": [
            "/usr/local/lib/python3.7/dist-packages/pandas/core/indexing.py:1596: SettingWithCopyWarning: \n",
            "A value is trying to be set on a copy of a slice from a DataFrame.\n",
            "Try using .loc[row_indexer,col_indexer] = value instead\n",
            "\n",
            "See the caveats in the documentation: https://pandas.pydata.org/pandas-docs/stable/user_guide/indexing.html#returning-a-view-versus-a-copy\n",
            "  self.obj[key] = _infer_fill_value(value)\n",
            "/usr/local/lib/python3.7/dist-packages/pandas/core/indexing.py:1743: SettingWithCopyWarning: \n",
            "A value is trying to be set on a copy of a slice from a DataFrame.\n",
            "Try using .loc[row_indexer,col_indexer] = value instead\n",
            "\n",
            "See the caveats in the documentation: https://pandas.pydata.org/pandas-docs/stable/user_guide/indexing.html#returning-a-view-versus-a-copy\n",
            "  isetter(ilocs[0], value)\n",
            "/usr/local/lib/python3.7/dist-packages/ipykernel_launcher.py:78: SettingWithCopyWarning: \n",
            "A value is trying to be set on a copy of a slice from a DataFrame.\n",
            "Try using .loc[row_indexer,col_indexer] = value instead\n",
            "\n",
            "See the caveats in the documentation: https://pandas.pydata.org/pandas-docs/stable/user_guide/indexing.html#returning-a-view-versus-a-copy\n",
            "/usr/local/lib/python3.7/dist-packages/pandas/core/indexing.py:1763: SettingWithCopyWarning: \n",
            "A value is trying to be set on a copy of a slice from a DataFrame.\n",
            "Try using .loc[row_indexer,col_indexer] = value instead\n",
            "\n",
            "See the caveats in the documentation: https://pandas.pydata.org/pandas-docs/stable/user_guide/indexing.html#returning-a-view-versus-a-copy\n",
            "  isetter(loc, value)\n"
          ]
        },
        {
          "output_type": "stream",
          "name": "stdout",
          "text": [
            "['ARP', 'ARP vs. Prior Period', 'Average 3 Mo. Units Growth', 'Sells Ingestibles', 'Sells Inhaleables', 'Concentrates', 'Pre-Rolled/Flower', 'Vape Cartridge', 'Sells THC', 'NumProducts', 'ARP Increase Previous 2 Months ($)', 'Year', 'Market Share Growth (% of Market) Prev. 2 Mo.', 'quarter_1', 'quarter_2', 'quarter_3', 'quarter_4', 'Length In Market (Days)']\n",
            "(21487, 18)\n",
            "(3792, 18)\n",
            "(21487,)\n",
            "(3792,)\n"
          ]
        }
      ]
    },
    {
      "cell_type": "markdown",
      "metadata": {
        "id": "09XuOpYj1YCe"
      },
      "source": [
        "### Shows that 13 unique brands exist in brandTotalUnits that do not exist in brandTotalSales nor brandARP"
      ]
    },
    {
      "cell_type": "code",
      "metadata": {
        "colab": {
          "base_uri": "https://localhost:8080/"
        },
        "id": "-jyTyhIwKQWa",
        "outputId": "4263cd7e-750a-4c6d-8f97-76419fcb48ad"
      },
      "source": [
        "#print(len(brandTotalSales['Brand'].unique()))\n",
        "#print(len(brandTotalUnits['Brands'].unique()))\n",
        "\n",
        "#print(list(set(brandTotalSales['Brand']).symmetric_difference(set(brandTotalUnits['Brands']))))\n",
        "\n",
        "sales_and_units = set.union(set(brandTotalSales['Brand']),set(brandTotalUnits['Brands']))\n",
        "brands_final = list(sales_and_units.symmetric_difference(set(brandAvgRetailPrice['Brands'])))\n",
        "\n",
        "sales_and_units = set(set(brandTotalSales['Brand']).symmetric_difference(set(brandTotalUnits['Brands'])))\n",
        "sales_and_arp   = set(set(brandTotalSales['Brand']).symmetric_difference(set(brandAvgRetailPrice['Brands'])))\n",
        "units_and_arp   = set(set(brandTotalUnits['Brands']).symmetric_difference(set(brandAvgRetailPrice['Brands'])))\n",
        "saleUnits_and_unitARP = set(sales_and_units.symmetric_difference(units_and_arp))\n",
        "\n",
        "sz_sales = 0\n",
        "sz_units = 0\n",
        "sz_arp = 0\n",
        "for brand in brands_final:\n",
        "  single_sales = brandTotalSales[brandTotalSales.Brand == brand]\n",
        "  single_units = brandTotalUnits[brandTotalUnits.Brands == brand]\n",
        "  single_arp   = brandAvgRetailPrice[brandAvgRetailPrice.Brands == brand]\n",
        "  if len(single_sales) is not 0:\n",
        "    sz_sales = sz_sales + len(single_sales)\n",
        "  if len(single_units) is not 0:\n",
        "    sz_units = sz_units + len(single_units)\n",
        "  if len(single_arp) is not 0:\n",
        "    sz_arp = sz_arp + len(single_arp)\n",
        "\n",
        "print(\"Sales: \"+str(sz_sales))\n",
        "print(\"Units: \"+str(sz_units))\n",
        "print(\"ARP: \"+str(sz_arp))\n",
        "print(len(sales_and_units))\n",
        "print(len(sales_and_arp))\n",
        "print(len(units_and_arp))\n",
        "print(len(saleUnits_and_unitARP))"
      ],
      "execution_count": null,
      "outputs": [
        {
          "output_type": "stream",
          "name": "stdout",
          "text": [
            "Sales: 0\n",
            "Units: 26\n",
            "ARP: 0\n",
            "13\n",
            "0\n",
            "13\n",
            "0\n"
          ]
        }
      ]
    },
    {
      "cell_type": "markdown",
      "metadata": {
        "id": "HRm-zHxZ2NEe"
      },
      "source": [
        "# 6) Documentation of data strategy (See Report)"
      ]
    },
    {
      "cell_type": "markdown",
      "metadata": {
        "id": "QyDVkXXN2X7w"
      },
      "source": [
        "# 7) Implement a Basic Linear Regression Predictive Model"
      ]
    },
    {
      "cell_type": "markdown",
      "metadata": {
        "id": "gIAB14SC2dSL"
      },
      "source": [
        "## 7.1) Define metric function"
      ]
    },
    {
      "cell_type": "code",
      "metadata": {
        "id": "cW6lsRn86ujY"
      },
      "source": [
        "import sklearn.metrics as metrics\n",
        "def regression_results(y_true, y_pred):\n",
        "    # Regression metrics\n",
        "    explained_variance=metrics.explained_variance_score(y_true, y_pred)\n",
        "    mean_absolute_error=metrics.mean_absolute_error(y_true, y_pred) \n",
        "    mse=metrics.mean_squared_error(y_true, y_pred) \n",
        "    median_absolute_error=metrics.median_absolute_error(y_true, y_pred)\n",
        "    r2=metrics.r2_score(y_true, y_pred)\n",
        "    print('explained_variance: ', round(explained_variance,4))    \n",
        "    print('r2: ', round(r2,4))\n",
        "    print('MAE: ', round(mean_absolute_error,4))\n",
        "    print('MSE: ', round(mse,4))\n",
        "    print('RMSE: ', round(np.sqrt(mse),4))\n",
        "\n",
        "def linear_regression_metrics(y_train,train_preds,y_test,test_preds):\n",
        "  print(\"Training Metrics: \")\n",
        "  regression_results(y_train,train_preds)\n",
        "\n",
        "  print(\"\\nTesting Metrics: \")\n",
        "  regression_results(y_test,test_preds)\n",
        "  print('\\n')"
      ],
      "execution_count": null,
      "outputs": []
    },
    {
      "cell_type": "markdown",
      "metadata": {
        "id": "rFOz7w__6WvG"
      },
      "source": [
        "## 7.2) Linear Regression model"
      ]
    },
    {
      "cell_type": "code",
      "metadata": {
        "colab": {
          "base_uri": "https://localhost:8080/",
          "height": 590
        },
        "id": "9AQNQ3ns6dNI",
        "outputId": "5a29fbb7-a7cd-4a66-a9a0-7d1ff5f24bce"
      },
      "source": [
        "from sklearn.linear_model import LinearRegression\n",
        "\n",
        "lin_reg = LinearRegression()\n",
        "lin_reg.fit(x_train, y_train)\n",
        "\n",
        "train_preds = lin_reg.predict(x_train)\n",
        "test_preds  = lin_reg.predict(x_test)\n",
        "\n",
        "linear_regression_metrics(y_train,train_preds,y_test,test_preds)\n",
        "\n",
        "# Creates zipped list of coefficient values and column names\n",
        "coef_label = list(zip(lin_reg.coef_,list(cols)))\n",
        "display(coef_label)"
      ],
      "execution_count": null,
      "outputs": [
        {
          "output_type": "stream",
          "name": "stdout",
          "text": [
            "Training Metrics: \n",
            "explained_variance:  0.2848\n",
            "r2:  0.2848\n",
            "MAE:  392315.2094\n",
            "MSE:  1736944175558.2632\n",
            "RMSE:  1317931.7796\n",
            "\n",
            "Testing Metrics: \n",
            "explained_variance:  0.2036\n",
            "r2:  0.2032\n",
            "MAE:  429841.603\n",
            "MSE:  2564128836913.0254\n",
            "RMSE:  1601289.7417\n",
            "\n",
            "\n"
          ]
        },
        {
          "output_type": "display_data",
          "data": {
            "text/plain": [
              "[(-76398.53782379642, 'ARP'),\n",
              " (-2799.215325120109, 'ARP vs. Prior Period'),\n",
              " (-27271.211674332044, 'Average 3 Mo. Units Growth'),\n",
              " (69624.36145089362, 'Sells Ingestibles'),\n",
              " (173107.61128388223, 'Sells Inhaleables'),\n",
              " (-153033.41879977135, 'Concentrates'),\n",
              " (-28304.89622998625, 'Pre-Rolled/Flower'),\n",
              " (33150.672824789006, 'Vape Cartridge'),\n",
              " (-33461.75171580869, 'Sells THC'),\n",
              " (797872.2871201896, 'NumProducts'),\n",
              " (1448.9716411456886, 'ARP Increase Previous 2 Months ($)'),\n",
              " (-121039.83470959627, 'Year'),\n",
              " (-54235.023148638444, 'Market Share Growth (% of Market) Prev. 2 Mo.'),\n",
              " (17020.693672313675, 'quarter_1'),\n",
              " (6022.491515525264, 'quarter_2'),\n",
              " (1673.5065665559516, 'quarter_3'),\n",
              " (-25332.171385981434, 'quarter_4'),\n",
              " (143338.41695065898, 'Length In Market (Days)')]"
            ]
          },
          "metadata": {}
        }
      ]
    },
    {
      "cell_type": "markdown",
      "metadata": {
        "id": "jHFIwZ_L-SdO"
      },
      "source": [
        "## 7.3) Interpretation of features"
      ]
    },
    {
      "cell_type": "markdown",
      "metadata": {
        "id": "coVEaEXz-W9T"
      },
      "source": [
        "The features with the largest positive correlations are:\n",
        "- NumProducts (797872)\n",
        "- Sells Inhaleables (173107)\n",
        "- Length in Market (Days) (143338)\n",
        "\n",
        "The features with the largest negative correlations are:\n",
        "- Concentrates (-153033)\n",
        "- Year (-121039)\n",
        "- ARP (-76398)\n",
        "\n",
        "Another interesting observation is the negative correlation with Total Sales and quarter_4. This indicates that sales decrease during the months of October through December.\n",
        "\n",
        "However, the low $R^2$ values of 0.2032 (Test) and 0.2848 (Train) indicate that the basic linear regression model may not be a good model for the data."
      ]
    },
    {
      "cell_type": "markdown",
      "metadata": {
        "id": "puxahqBg_aUf"
      },
      "source": [
        "# 8) Implement Principle Component Analysis (PCA)"
      ]
    },
    {
      "cell_type": "markdown",
      "metadata": {
        "id": "2g9AO61F_fly"
      },
      "source": [
        "## 8.1) PCA Model"
      ]
    },
    {
      "cell_type": "code",
      "metadata": {
        "id": "6ffb_GmG_jMG",
        "colab": {
          "base_uri": "https://localhost:8080/"
        },
        "outputId": "aae9995f-795d-43e5-8bb7-c8fcfe06b90e"
      },
      "source": [
        "from sklearn import decomposition\n",
        "\n",
        "# First we create a PCA object with the 4 components as a parameter\n",
        "pca = decomposition.PCA(.95)\n",
        "\n",
        "data_pca = pca.fit(x_train)\n",
        "\n",
        "pca.n_components_"
      ],
      "execution_count": null,
      "outputs": [
        {
          "output_type": "execute_result",
          "data": {
            "text/plain": [
              "14"
            ]
          },
          "metadata": {},
          "execution_count": 8
        }
      ]
    },
    {
      "cell_type": "markdown",
      "metadata": {
        "id": "9ZwlEyVT4jxL"
      },
      "source": [
        "It is interesting that this pca split requires 14 of the 18 columns in the training data to account for the variance of the data"
      ]
    },
    {
      "cell_type": "code",
      "metadata": {
        "id": "gOOlPLgH4wU-"
      },
      "source": [
        "# Redefine training and testing data using 14 principle components\n",
        "x_train_pca = pca.transform(x_train)\n",
        "x_test_pca = pca.transform(x_test)"
      ],
      "execution_count": null,
      "outputs": []
    },
    {
      "cell_type": "code",
      "metadata": {
        "colab": {
          "base_uri": "https://localhost:8080/"
        },
        "id": "QsLFcNIx5BWq",
        "outputId": "3fe2d04e-2334-45be-87b4-3f883e82aea4"
      },
      "source": [
        "# Re-run linear regression to compare against original results\n",
        "lin_reg = LinearRegression()\n",
        "lin_reg.fit(x_train_pca, y_train)\n",
        "\n",
        "train_preds = lin_reg.predict(x_train_pca)\n",
        "test_preds  = lin_reg.predict(x_test_pca)\n",
        "\n",
        "linear_regression_metrics(y_train,train_preds,y_test,test_preds)"
      ],
      "execution_count": null,
      "outputs": [
        {
          "output_type": "stream",
          "name": "stdout",
          "text": [
            "Training Metrics: \n",
            "explained_variance:  0.2822\n",
            "r2:  0.2822\n",
            "MAE:  384003.9128\n",
            "MSE:  1743366166790.2632\n",
            "RMSE:  1320365.9215\n",
            "\n",
            "Testing Metrics: \n",
            "explained_variance:  0.2017\n",
            "r2:  0.2012\n",
            "MAE:  421769.7522\n",
            "MSE:  2570457064391.503\n",
            "RMSE:  1603264.5023\n",
            "\n",
            "\n"
          ]
        }
      ]
    },
    {
      "cell_type": "markdown",
      "metadata": {
        "id": "H6exOIwCAJL3"
      },
      "source": [
        "## 8.2) PCA Interpretations\n"
      ]
    },
    {
      "cell_type": "markdown",
      "metadata": {
        "id": "CiCnNnrFFzPD"
      },
      "source": [
        "We see slightly lower $R^2$ values for both training (0.2822 vs. 0.2848) and testing (0.2012 vs. 0.2032). This indicates that the dimensionality reduction slightly reduces the likelihood that these correlations are relevant."
      ]
    },
    {
      "cell_type": "markdown",
      "metadata": {
        "id": "WeD9QIyRE6zC"
      },
      "source": [
        "# 9) Employ an Ensemble Method (XGBOOST)"
      ]
    },
    {
      "cell_type": "code",
      "metadata": {
        "id": "1c57zd_MFkTE"
      },
      "source": [
        "import xgboost as xgb\n",
        "from sklearn.model_selection import train_test_split\n",
        "from sklearn.model_selection import cross_val_score\n",
        "from sklearn.model_selection import KFold"
      ],
      "execution_count": null,
      "outputs": []
    },
    {
      "cell_type": "markdown",
      "metadata": {
        "id": "eJcrniwtE_ML"
      },
      "source": [
        "## 9.1) XGBOOST Implementation and Results"
      ]
    },
    {
      "cell_type": "code",
      "metadata": {
        "id": "42vFsofb8alO"
      },
      "source": [
        "# xbg result function definition\n",
        "\n",
        "def xgb_results(xgb_model,y_train,x_train,y_test,x_test):\n",
        "  score = xgb_model.score(x_train, y_train)  \n",
        "  print(\"Training score: \", score)\n",
        "\n",
        "  scores = cross_val_score(xgb_model, x_train, y_train,cv=10)\n",
        "  print(\"Mean cross-validation score: %.2f\" % scores.mean())\n",
        "\n",
        "  kfold = KFold(n_splits=10, shuffle=True)\n",
        "  kf_cv_scores = cross_val_score(xgb_model, x_train, y_train, cv=kfold )\n",
        "  print(\"K-fold CV average score: %.2f\" % kf_cv_scores.mean())\n",
        "  return"
      ],
      "execution_count": null,
      "outputs": []
    },
    {
      "cell_type": "code",
      "metadata": {
        "colab": {
          "base_uri": "https://localhost:8080/"
        },
        "id": "5mJqZz6QF-jW",
        "outputId": "33d26f1a-f8ce-45c1-e333-4e73de41dd92"
      },
      "source": [
        "xgb_model = xgb.XGBRegressor(objective=\"reg:squarederror\", booster = 'gbtree', max_depth = 4, random_state=42)\n",
        "\n",
        "xgb_model.fit(x_train, y_train)\n",
        "\n",
        "xgb_results(xgb_model,y_train,x_train,y_test,x_test)"
      ],
      "execution_count": null,
      "outputs": [
        {
          "output_type": "stream",
          "name": "stdout",
          "text": [
            "Training score:  0.9421443939690299\n",
            "Mean cross-validation score: 0.86\n",
            "K-fold CV average score: 0.87\n"
          ]
        }
      ]
    },
    {
      "cell_type": "code",
      "metadata": {
        "colab": {
          "base_uri": "https://localhost:8080/"
        },
        "id": "IqY_DqJd979p",
        "outputId": "99748549-c878-4297-b70c-e2794fc85c03"
      },
      "source": [
        "train_pred_xgb = xgb_model.predict(x_train)\n",
        "test_pred_xgb = xgb_model.predict(x_test)\n",
        "\n",
        "linear_regression_metrics(y_train,train_pred_xgb,y_test,test_pred_xgb)"
      ],
      "execution_count": null,
      "outputs": [
        {
          "output_type": "stream",
          "name": "stdout",
          "text": [
            "Training Metrics: \n",
            "explained_variance:  0.9421\n",
            "r2:  0.9421\n",
            "MAE:  167691.5797\n",
            "MSE:  140515458603.385\n",
            "RMSE:  374853.9164\n",
            "\n",
            "Testing Metrics: \n",
            "explained_variance:  0.9129\n",
            "r2:  0.9129\n",
            "MAE:  187815.9574\n",
            "MSE:  280303284539.4755\n",
            "RMSE:  529436.7616\n",
            "\n",
            "\n"
          ]
        }
      ]
    },
    {
      "cell_type": "code",
      "metadata": {
        "colab": {
          "base_uri": "https://localhost:8080/",
          "height": 329
        },
        "id": "8VXpgB3a_J_Z",
        "outputId": "9ca62408-e101-4138-e664-c86fbf6c319f"
      },
      "source": [
        "coef_label = list(zip(xgb_model.feature_importances_,list(cols)))\n",
        "display(coef_label)"
      ],
      "execution_count": null,
      "outputs": [
        {
          "output_type": "display_data",
          "data": {
            "text/plain": [
              "[(0.18182631, 'ARP'),\n",
              " (0.010821149, 'ARP vs. Prior Period'),\n",
              " (0.053453285, 'Average 3 Mo. Units Growth'),\n",
              " (0.040381365, 'Sells Ingestibles'),\n",
              " (0.07717449, 'Sells Inhaleables'),\n",
              " (0.06880223, 'Concentrates'),\n",
              " (0.092980914, 'Pre-Rolled/Flower'),\n",
              " (0.05869802, 'Vape Cartridge'),\n",
              " (0.0, 'Sells THC'),\n",
              " (0.2972738, 'NumProducts'),\n",
              " (0.011655428, 'ARP Increase Previous 2 Months ($)'),\n",
              " (0.011855306, 'Year'),\n",
              " (0.052128766, 'Market Share Growth (% of Market) Prev. 2 Mo.'),\n",
              " (0.0, 'quarter_1'),\n",
              " (0.0018615152, 'quarter_2'),\n",
              " (0.004011691, 'quarter_3'),\n",
              " (0.0012660758, 'quarter_4'),\n",
              " (0.035809614, 'Length In Market (Days)')]"
            ]
          },
          "metadata": {}
        }
      ]
    },
    {
      "cell_type": "markdown",
      "metadata": {
        "id": "8UVuSY6b-zg0"
      },
      "source": [
        "## 9.2) XGBOOST Results Interpretation"
      ]
    },
    {
      "cell_type": "markdown",
      "metadata": {
        "id": "BskuKo8m-4eb"
      },
      "source": [
        "The high training score of 0.942 and high K-fold cross-validation score of 0.87 indicate that XGBOOST is an excellent method for predicting Total Sales Data from the given parameters.\n",
        "\n",
        "Importance of an attribute ($a_x$)for XGBoost in a single decision tree indicates the amount that each split of $a_x$ improves the overall performance measure, weighted by number of observations that each node affects. \n",
        "\n",
        "The overall *feature importance* for $a_x$ is then averaged across all decision trees in the model and reported by the above call.\n",
        "\n",
        "Using the method of feature importance, it appears that the 3 MOST important features are:\n",
        "- NumProducts (0.297)\n",
        "- ARP (0.182)\n",
        "- Pre-Rolled/Flower (0.093)\n",
        "\n",
        "Whereas, the 3 LEAST important features are:\n",
        "- Sells THC (0)\n",
        "- quarter_1 (0)\n",
        "- quarters 2, 3, and 4 (0.0019,0.0040, 0.0013)\n",
        "\n",
        "Given that the $R^2$ values for training (0.9421) and testing (0.9129) have high significance and the 10-fold validation was 0.87, there is a very high likelihood that the aforementioned most and least important features are indeed correct."
      ]
    },
    {
      "cell_type": "markdown",
      "metadata": {
        "id": "vAhCEoI7DBfG"
      },
      "source": [
        "## 9.3) XGBOOST + PCA Implementation"
      ]
    },
    {
      "cell_type": "code",
      "metadata": {
        "colab": {
          "base_uri": "https://localhost:8080/"
        },
        "id": "21nENBhfDHXi",
        "outputId": "86bb1c72-9f9a-410c-a610-6f2c1c3982e6"
      },
      "source": [
        "xgb_model_pca = xgb.XGBRegressor(objective=\"reg:squarederror\", booster = 'gbtree', max_depth = 4, random_state=42)\n",
        "\n",
        "xgb_model_pca.fit(x_train_pca, y_train)\n",
        "\n",
        "xgb_results(xgb_model_pca,y_train,x_train_pca,y_test,x_test_pca)"
      ],
      "execution_count": null,
      "outputs": [
        {
          "output_type": "stream",
          "name": "stdout",
          "text": [
            "Training score:  0.8907704013696589\n",
            "Mean cross-validation score: 0.64\n",
            "K-fold CV average score: 0.61\n"
          ]
        }
      ]
    },
    {
      "cell_type": "code",
      "metadata": {
        "colab": {
          "base_uri": "https://localhost:8080/"
        },
        "id": "rq2wOP1uDf1D",
        "outputId": "d0303970-e00b-42cd-94e2-f0b568591e89"
      },
      "source": [
        "train_pred_xgb_pca = xgb_model_pca.predict(x_train_pca)\n",
        "test_pred_xgb_pca = xgb_model_pca.predict(x_test_pca)\n",
        "\n",
        "linear_regression_metrics(y_train,train_pred_xgb_pca,y_test,test_pred_xgb_pca)"
      ],
      "execution_count": null,
      "outputs": [
        {
          "output_type": "stream",
          "name": "stdout",
          "text": [
            "Training Metrics: \n",
            "explained_variance:  0.8908\n",
            "r2:  0.8908\n",
            "MAE:  207922.0359\n",
            "MSE:  265288849215.235\n",
            "RMSE:  515061.9858\n",
            "\n",
            "Testing Metrics: \n",
            "explained_variance:  0.7818\n",
            "r2:  0.7818\n",
            "MAE:  243647.3766\n",
            "MSE:  702159585172.8735\n",
            "RMSE:  837949.6316\n",
            "\n",
            "\n"
          ]
        }
      ]
    },
    {
      "cell_type": "markdown",
      "metadata": {
        "id": "yACs791VDyGg"
      },
      "source": [
        "## 9.4) XGBOOST + PCA Results Interpretation"
      ]
    },
    {
      "cell_type": "markdown",
      "metadata": {
        "id": "uXm6Kp9-D3lr"
      },
      "source": [
        "Given that all relevent validation metrics (training score, mean cross-validation score, 10-fold cross validation average score, $R^2$ for testing, and $R^2$ for training) noticeably decreased, we can assume that dimensionality reduction once again does not benefit this model."
      ]
    },
    {
      "cell_type": "markdown",
      "metadata": {
        "id": "1xbVft1pEnh-"
      },
      "source": [
        "## 11) GridSearch "
      ]
    },
    {
      "cell_type": "code",
      "metadata": {
        "id": "Bmtg5lsrE38S"
      },
      "source": [
        "from sklearn.model_selection import GridSearchCV\n",
        "from sklearn import metrics"
      ],
      "execution_count": null,
      "outputs": []
    },
    {
      "cell_type": "markdown",
      "metadata": {
        "id": "-JCGt6d4Ezb5"
      },
      "source": [
        "## 11.1) GridSearchCV Implementation (1)"
      ]
    },
    {
      "cell_type": "code",
      "metadata": {
        "colab": {
          "base_uri": "https://localhost:8080/"
        },
        "id": "aI7XUw2qE2I2",
        "outputId": "766fabe9-d04b-42a6-f521-935876d971ab"
      },
      "source": [
        "xgb_model = xgb.XGBRegressor(objective=\"reg:squarederror\", booster = 'gbtree', max_depth = 4, random_state=42)\n",
        "\n",
        "tuned_parameters = [\n",
        "    {\"objective\": [\"reg:squarederror\"], \"booster\": [\"gbtree\"], \"sampling_method\": [\"uniform\", \"gradient_based\"], \"lambda\": [0,  0.01, 0.1], \"alpha\": [0,  0.01, 0.1], \"max_depth\": [4], \"random_state\": [42]},\n",
        "    {\"objective\": [\"reg:squarederror\"], \"booster\": [\"gblinear\"], \"lambda\": [0,  0.01, 0.1], \"alpha\": [0,  0.01, 0.1], \"updater\": [\"shotgun\", \"coord_descent\"], \"max_depth\": [4], \"random_state\": [42]},\n",
        "]\n",
        "\n",
        "scores = [\"explained_variance\",\"r2\"]\n",
        "\n",
        "for score in scores:\n",
        "    print(\"# Tuning hyper-parameters for %s\" % score)\n",
        "    print()\n",
        "\n",
        "    clf = GridSearchCV(xgb.XGBRegressor(), tuned_parameters, scoring=score)\n",
        "    clf.fit(x_train, y_train)\n",
        "\n",
        "    print(\"Best parameters set found on development set:\")\n",
        "    print()\n",
        "    print(clf.best_params_)\n",
        "    print()\n",
        "    print(\"Grid scores on development set:\")\n",
        "    print()\n",
        "    means = clf.cv_results_[\"mean_test_score\"]\n",
        "    stds = clf.cv_results_[\"std_test_score\"]\n",
        "    for mean, std, params in zip(means, stds, clf.cv_results_[\"params\"]):\n",
        "        print(\"%0.3f (+/-%0.03f) for %r\" % (mean, std * 2, params))\n",
        "    print()"
      ],
      "execution_count": null,
      "outputs": [
        {
          "output_type": "stream",
          "name": "stdout",
          "text": [
            "# Tuning hyper-parameters for explained_variance\n",
            "\n",
            "Best parameters set found on development set:\n",
            "\n",
            "{'alpha': 0, 'booster': 'gbtree', 'lambda': 0, 'max_depth': 4, 'objective': 'reg:squarederror', 'random_state': 42, 'sampling_method': 'uniform'}\n",
            "\n",
            "Grid scores on development set:\n",
            "\n",
            "0.866 (+/-0.085) for {'alpha': 0, 'booster': 'gbtree', 'lambda': 0, 'max_depth': 4, 'objective': 'reg:squarederror', 'random_state': 42, 'sampling_method': 'uniform'}\n",
            "0.866 (+/-0.085) for {'alpha': 0, 'booster': 'gbtree', 'lambda': 0, 'max_depth': 4, 'objective': 'reg:squarederror', 'random_state': 42, 'sampling_method': 'gradient_based'}\n",
            "0.866 (+/-0.085) for {'alpha': 0, 'booster': 'gbtree', 'lambda': 0.01, 'max_depth': 4, 'objective': 'reg:squarederror', 'random_state': 42, 'sampling_method': 'uniform'}\n",
            "0.866 (+/-0.085) for {'alpha': 0, 'booster': 'gbtree', 'lambda': 0.01, 'max_depth': 4, 'objective': 'reg:squarederror', 'random_state': 42, 'sampling_method': 'gradient_based'}\n",
            "0.866 (+/-0.085) for {'alpha': 0, 'booster': 'gbtree', 'lambda': 0.1, 'max_depth': 4, 'objective': 'reg:squarederror', 'random_state': 42, 'sampling_method': 'uniform'}\n",
            "0.866 (+/-0.085) for {'alpha': 0, 'booster': 'gbtree', 'lambda': 0.1, 'max_depth': 4, 'objective': 'reg:squarederror', 'random_state': 42, 'sampling_method': 'gradient_based'}\n",
            "0.866 (+/-0.085) for {'alpha': 0.01, 'booster': 'gbtree', 'lambda': 0, 'max_depth': 4, 'objective': 'reg:squarederror', 'random_state': 42, 'sampling_method': 'uniform'}\n",
            "0.866 (+/-0.085) for {'alpha': 0.01, 'booster': 'gbtree', 'lambda': 0, 'max_depth': 4, 'objective': 'reg:squarederror', 'random_state': 42, 'sampling_method': 'gradient_based'}\n",
            "0.866 (+/-0.085) for {'alpha': 0.01, 'booster': 'gbtree', 'lambda': 0.01, 'max_depth': 4, 'objective': 'reg:squarederror', 'random_state': 42, 'sampling_method': 'uniform'}\n",
            "0.866 (+/-0.085) for {'alpha': 0.01, 'booster': 'gbtree', 'lambda': 0.01, 'max_depth': 4, 'objective': 'reg:squarederror', 'random_state': 42, 'sampling_method': 'gradient_based'}\n",
            "0.866 (+/-0.085) for {'alpha': 0.01, 'booster': 'gbtree', 'lambda': 0.1, 'max_depth': 4, 'objective': 'reg:squarederror', 'random_state': 42, 'sampling_method': 'uniform'}\n",
            "0.866 (+/-0.085) for {'alpha': 0.01, 'booster': 'gbtree', 'lambda': 0.1, 'max_depth': 4, 'objective': 'reg:squarederror', 'random_state': 42, 'sampling_method': 'gradient_based'}\n",
            "0.866 (+/-0.085) for {'alpha': 0.1, 'booster': 'gbtree', 'lambda': 0, 'max_depth': 4, 'objective': 'reg:squarederror', 'random_state': 42, 'sampling_method': 'uniform'}\n",
            "0.866 (+/-0.085) for {'alpha': 0.1, 'booster': 'gbtree', 'lambda': 0, 'max_depth': 4, 'objective': 'reg:squarederror', 'random_state': 42, 'sampling_method': 'gradient_based'}\n",
            "0.866 (+/-0.085) for {'alpha': 0.1, 'booster': 'gbtree', 'lambda': 0.01, 'max_depth': 4, 'objective': 'reg:squarederror', 'random_state': 42, 'sampling_method': 'uniform'}\n",
            "0.866 (+/-0.085) for {'alpha': 0.1, 'booster': 'gbtree', 'lambda': 0.01, 'max_depth': 4, 'objective': 'reg:squarederror', 'random_state': 42, 'sampling_method': 'gradient_based'}\n",
            "0.866 (+/-0.085) for {'alpha': 0.1, 'booster': 'gbtree', 'lambda': 0.1, 'max_depth': 4, 'objective': 'reg:squarederror', 'random_state': 42, 'sampling_method': 'uniform'}\n",
            "0.866 (+/-0.085) for {'alpha': 0.1, 'booster': 'gbtree', 'lambda': 0.1, 'max_depth': 4, 'objective': 'reg:squarederror', 'random_state': 42, 'sampling_method': 'gradient_based'}\n",
            "0.206 (+/-0.083) for {'alpha': 0, 'booster': 'gblinear', 'lambda': 0, 'max_depth': 4, 'objective': 'reg:squarederror', 'random_state': 42, 'updater': 'shotgun'}\n",
            "0.206 (+/-0.083) for {'alpha': 0, 'booster': 'gblinear', 'lambda': 0, 'max_depth': 4, 'objective': 'reg:squarederror', 'random_state': 42, 'updater': 'coord_descent'}\n",
            "0.206 (+/-0.083) for {'alpha': 0, 'booster': 'gblinear', 'lambda': 0.01, 'max_depth': 4, 'objective': 'reg:squarederror', 'random_state': 42, 'updater': 'shotgun'}\n",
            "0.206 (+/-0.083) for {'alpha': 0, 'booster': 'gblinear', 'lambda': 0.01, 'max_depth': 4, 'objective': 'reg:squarederror', 'random_state': 42, 'updater': 'coord_descent'}\n",
            "0.206 (+/-0.083) for {'alpha': 0, 'booster': 'gblinear', 'lambda': 0.1, 'max_depth': 4, 'objective': 'reg:squarederror', 'random_state': 42, 'updater': 'shotgun'}\n",
            "0.206 (+/-0.083) for {'alpha': 0, 'booster': 'gblinear', 'lambda': 0.1, 'max_depth': 4, 'objective': 'reg:squarederror', 'random_state': 42, 'updater': 'coord_descent'}\n",
            "0.206 (+/-0.083) for {'alpha': 0.01, 'booster': 'gblinear', 'lambda': 0, 'max_depth': 4, 'objective': 'reg:squarederror', 'random_state': 42, 'updater': 'shotgun'}\n",
            "0.206 (+/-0.083) for {'alpha': 0.01, 'booster': 'gblinear', 'lambda': 0, 'max_depth': 4, 'objective': 'reg:squarederror', 'random_state': 42, 'updater': 'coord_descent'}\n",
            "0.206 (+/-0.083) for {'alpha': 0.01, 'booster': 'gblinear', 'lambda': 0.01, 'max_depth': 4, 'objective': 'reg:squarederror', 'random_state': 42, 'updater': 'shotgun'}\n",
            "0.206 (+/-0.083) for {'alpha': 0.01, 'booster': 'gblinear', 'lambda': 0.01, 'max_depth': 4, 'objective': 'reg:squarederror', 'random_state': 42, 'updater': 'coord_descent'}\n",
            "0.206 (+/-0.083) for {'alpha': 0.01, 'booster': 'gblinear', 'lambda': 0.1, 'max_depth': 4, 'objective': 'reg:squarederror', 'random_state': 42, 'updater': 'shotgun'}\n",
            "0.206 (+/-0.083) for {'alpha': 0.01, 'booster': 'gblinear', 'lambda': 0.1, 'max_depth': 4, 'objective': 'reg:squarederror', 'random_state': 42, 'updater': 'coord_descent'}\n",
            "0.206 (+/-0.083) for {'alpha': 0.1, 'booster': 'gblinear', 'lambda': 0, 'max_depth': 4, 'objective': 'reg:squarederror', 'random_state': 42, 'updater': 'shotgun'}\n",
            "0.206 (+/-0.083) for {'alpha': 0.1, 'booster': 'gblinear', 'lambda': 0, 'max_depth': 4, 'objective': 'reg:squarederror', 'random_state': 42, 'updater': 'coord_descent'}\n",
            "0.206 (+/-0.083) for {'alpha': 0.1, 'booster': 'gblinear', 'lambda': 0.01, 'max_depth': 4, 'objective': 'reg:squarederror', 'random_state': 42, 'updater': 'shotgun'}\n",
            "0.206 (+/-0.083) for {'alpha': 0.1, 'booster': 'gblinear', 'lambda': 0.01, 'max_depth': 4, 'objective': 'reg:squarederror', 'random_state': 42, 'updater': 'coord_descent'}\n",
            "0.206 (+/-0.083) for {'alpha': 0.1, 'booster': 'gblinear', 'lambda': 0.1, 'max_depth': 4, 'objective': 'reg:squarederror', 'random_state': 42, 'updater': 'shotgun'}\n",
            "0.206 (+/-0.083) for {'alpha': 0.1, 'booster': 'gblinear', 'lambda': 0.1, 'max_depth': 4, 'objective': 'reg:squarederror', 'random_state': 42, 'updater': 'coord_descent'}\n",
            "\n",
            "# Tuning hyper-parameters for r2\n",
            "\n",
            "Best parameters set found on development set:\n",
            "\n",
            "{'alpha': 0, 'booster': 'gbtree', 'lambda': 0, 'max_depth': 4, 'objective': 'reg:squarederror', 'random_state': 42, 'sampling_method': 'uniform'}\n",
            "\n",
            "Grid scores on development set:\n",
            "\n",
            "0.866 (+/-0.085) for {'alpha': 0, 'booster': 'gbtree', 'lambda': 0, 'max_depth': 4, 'objective': 'reg:squarederror', 'random_state': 42, 'sampling_method': 'uniform'}\n",
            "0.866 (+/-0.085) for {'alpha': 0, 'booster': 'gbtree', 'lambda': 0, 'max_depth': 4, 'objective': 'reg:squarederror', 'random_state': 42, 'sampling_method': 'gradient_based'}\n",
            "0.866 (+/-0.085) for {'alpha': 0, 'booster': 'gbtree', 'lambda': 0.01, 'max_depth': 4, 'objective': 'reg:squarederror', 'random_state': 42, 'sampling_method': 'uniform'}\n",
            "0.866 (+/-0.085) for {'alpha': 0, 'booster': 'gbtree', 'lambda': 0.01, 'max_depth': 4, 'objective': 'reg:squarederror', 'random_state': 42, 'sampling_method': 'gradient_based'}\n",
            "0.866 (+/-0.085) for {'alpha': 0, 'booster': 'gbtree', 'lambda': 0.1, 'max_depth': 4, 'objective': 'reg:squarederror', 'random_state': 42, 'sampling_method': 'uniform'}\n",
            "0.866 (+/-0.085) for {'alpha': 0, 'booster': 'gbtree', 'lambda': 0.1, 'max_depth': 4, 'objective': 'reg:squarederror', 'random_state': 42, 'sampling_method': 'gradient_based'}\n",
            "0.866 (+/-0.085) for {'alpha': 0.01, 'booster': 'gbtree', 'lambda': 0, 'max_depth': 4, 'objective': 'reg:squarederror', 'random_state': 42, 'sampling_method': 'uniform'}\n",
            "0.866 (+/-0.085) for {'alpha': 0.01, 'booster': 'gbtree', 'lambda': 0, 'max_depth': 4, 'objective': 'reg:squarederror', 'random_state': 42, 'sampling_method': 'gradient_based'}\n",
            "0.866 (+/-0.085) for {'alpha': 0.01, 'booster': 'gbtree', 'lambda': 0.01, 'max_depth': 4, 'objective': 'reg:squarederror', 'random_state': 42, 'sampling_method': 'uniform'}\n",
            "0.866 (+/-0.085) for {'alpha': 0.01, 'booster': 'gbtree', 'lambda': 0.01, 'max_depth': 4, 'objective': 'reg:squarederror', 'random_state': 42, 'sampling_method': 'gradient_based'}\n",
            "0.866 (+/-0.085) for {'alpha': 0.01, 'booster': 'gbtree', 'lambda': 0.1, 'max_depth': 4, 'objective': 'reg:squarederror', 'random_state': 42, 'sampling_method': 'uniform'}\n",
            "0.866 (+/-0.085) for {'alpha': 0.01, 'booster': 'gbtree', 'lambda': 0.1, 'max_depth': 4, 'objective': 'reg:squarederror', 'random_state': 42, 'sampling_method': 'gradient_based'}\n",
            "0.866 (+/-0.085) for {'alpha': 0.1, 'booster': 'gbtree', 'lambda': 0, 'max_depth': 4, 'objective': 'reg:squarederror', 'random_state': 42, 'sampling_method': 'uniform'}\n",
            "0.866 (+/-0.085) for {'alpha': 0.1, 'booster': 'gbtree', 'lambda': 0, 'max_depth': 4, 'objective': 'reg:squarederror', 'random_state': 42, 'sampling_method': 'gradient_based'}\n",
            "0.866 (+/-0.085) for {'alpha': 0.1, 'booster': 'gbtree', 'lambda': 0.01, 'max_depth': 4, 'objective': 'reg:squarederror', 'random_state': 42, 'sampling_method': 'uniform'}\n",
            "0.866 (+/-0.085) for {'alpha': 0.1, 'booster': 'gbtree', 'lambda': 0.01, 'max_depth': 4, 'objective': 'reg:squarederror', 'random_state': 42, 'sampling_method': 'gradient_based'}\n",
            "0.866 (+/-0.085) for {'alpha': 0.1, 'booster': 'gbtree', 'lambda': 0.1, 'max_depth': 4, 'objective': 'reg:squarederror', 'random_state': 42, 'sampling_method': 'uniform'}\n",
            "0.866 (+/-0.085) for {'alpha': 0.1, 'booster': 'gbtree', 'lambda': 0.1, 'max_depth': 4, 'objective': 'reg:squarederror', 'random_state': 42, 'sampling_method': 'gradient_based'}\n",
            "0.206 (+/-0.083) for {'alpha': 0, 'booster': 'gblinear', 'lambda': 0, 'max_depth': 4, 'objective': 'reg:squarederror', 'random_state': 42, 'updater': 'shotgun'}\n",
            "0.206 (+/-0.083) for {'alpha': 0, 'booster': 'gblinear', 'lambda': 0, 'max_depth': 4, 'objective': 'reg:squarederror', 'random_state': 42, 'updater': 'coord_descent'}\n",
            "0.206 (+/-0.083) for {'alpha': 0, 'booster': 'gblinear', 'lambda': 0.01, 'max_depth': 4, 'objective': 'reg:squarederror', 'random_state': 42, 'updater': 'shotgun'}\n",
            "0.206 (+/-0.083) for {'alpha': 0, 'booster': 'gblinear', 'lambda': 0.01, 'max_depth': 4, 'objective': 'reg:squarederror', 'random_state': 42, 'updater': 'coord_descent'}\n",
            "0.206 (+/-0.083) for {'alpha': 0, 'booster': 'gblinear', 'lambda': 0.1, 'max_depth': 4, 'objective': 'reg:squarederror', 'random_state': 42, 'updater': 'shotgun'}\n",
            "0.206 (+/-0.083) for {'alpha': 0, 'booster': 'gblinear', 'lambda': 0.1, 'max_depth': 4, 'objective': 'reg:squarederror', 'random_state': 42, 'updater': 'coord_descent'}\n",
            "0.206 (+/-0.083) for {'alpha': 0.01, 'booster': 'gblinear', 'lambda': 0, 'max_depth': 4, 'objective': 'reg:squarederror', 'random_state': 42, 'updater': 'shotgun'}\n",
            "0.206 (+/-0.083) for {'alpha': 0.01, 'booster': 'gblinear', 'lambda': 0, 'max_depth': 4, 'objective': 'reg:squarederror', 'random_state': 42, 'updater': 'coord_descent'}\n",
            "0.206 (+/-0.083) for {'alpha': 0.01, 'booster': 'gblinear', 'lambda': 0.01, 'max_depth': 4, 'objective': 'reg:squarederror', 'random_state': 42, 'updater': 'shotgun'}\n",
            "0.206 (+/-0.083) for {'alpha': 0.01, 'booster': 'gblinear', 'lambda': 0.01, 'max_depth': 4, 'objective': 'reg:squarederror', 'random_state': 42, 'updater': 'coord_descent'}\n",
            "0.206 (+/-0.083) for {'alpha': 0.01, 'booster': 'gblinear', 'lambda': 0.1, 'max_depth': 4, 'objective': 'reg:squarederror', 'random_state': 42, 'updater': 'shotgun'}\n",
            "0.206 (+/-0.083) for {'alpha': 0.01, 'booster': 'gblinear', 'lambda': 0.1, 'max_depth': 4, 'objective': 'reg:squarederror', 'random_state': 42, 'updater': 'coord_descent'}\n",
            "0.206 (+/-0.083) for {'alpha': 0.1, 'booster': 'gblinear', 'lambda': 0, 'max_depth': 4, 'objective': 'reg:squarederror', 'random_state': 42, 'updater': 'shotgun'}\n",
            "0.206 (+/-0.083) for {'alpha': 0.1, 'booster': 'gblinear', 'lambda': 0, 'max_depth': 4, 'objective': 'reg:squarederror', 'random_state': 42, 'updater': 'coord_descent'}\n",
            "0.206 (+/-0.083) for {'alpha': 0.1, 'booster': 'gblinear', 'lambda': 0.01, 'max_depth': 4, 'objective': 'reg:squarederror', 'random_state': 42, 'updater': 'shotgun'}\n",
            "0.206 (+/-0.083) for {'alpha': 0.1, 'booster': 'gblinear', 'lambda': 0.01, 'max_depth': 4, 'objective': 'reg:squarederror', 'random_state': 42, 'updater': 'coord_descent'}\n",
            "0.206 (+/-0.083) for {'alpha': 0.1, 'booster': 'gblinear', 'lambda': 0.1, 'max_depth': 4, 'objective': 'reg:squarederror', 'random_state': 42, 'updater': 'shotgun'}\n",
            "0.206 (+/-0.083) for {'alpha': 0.1, 'booster': 'gblinear', 'lambda': 0.1, 'max_depth': 4, 'objective': 'reg:squarederror', 'random_state': 42, 'updater': 'coord_descent'}\n",
            "\n"
          ]
        }
      ]
    },
    {
      "cell_type": "markdown",
      "metadata": {
        "id": "Sw55blrGVBRK"
      },
      "source": [
        "## 11.2) GridSearchCV Implementation (2)"
      ]
    },
    {
      "cell_type": "code",
      "metadata": {
        "colab": {
          "base_uri": "https://localhost:8080/"
        },
        "id": "sjlPjTK4VFyw",
        "outputId": "b7de2249-a606-49d3-8733-cb111536497d"
      },
      "source": [
        "xgb_model = xgb.XGBRegressor(objective=\"reg:squarederror\", booster = 'gbtree', max_depth = 4, random_state=42)\n",
        "\n",
        "tuned_parameters = [\n",
        "    {\"objective\" : [\"reg:squarederror\"], \"booster\": [\"gblinear\"], \"lambda\": [0,1], \"max_depth\": [3,4,5,6,10,15], \"random_state\": [42]},\n",
        "]\n",
        "\n",
        "scores = [\"explained_variance\",\"r2\"]\n",
        "\n",
        "for score in scores:\n",
        "    print(\"# Tuning hyper-parameters for %s\" % score)\n",
        "    print()\n",
        "\n",
        "    clf = GridSearchCV(xgb.XGBRegressor(), tuned_parameters, scoring=score)\n",
        "    clf.fit(x_train, y_train)\n",
        "\n",
        "    print(\"Best parameters set found on development set:\")\n",
        "    print()\n",
        "    print(clf.best_params_)\n",
        "    print()\n",
        "    print(\"Grid scores on development set:\")\n",
        "    print()\n",
        "    means = clf.cv_results_[\"mean_test_score\"]\n",
        "    stds = clf.cv_results_[\"std_test_score\"]\n",
        "    for mean, std, params in zip(means, stds, clf.cv_results_[\"params\"]):\n",
        "        print(\"%0.3f (+/-%0.03f) for %r\" % (mean, std * 2, params))\n",
        "    print()"
      ],
      "execution_count": null,
      "outputs": [
        {
          "output_type": "stream",
          "name": "stdout",
          "text": [
            "# Tuning hyper-parameters for explained_variance\n",
            "\n",
            "Best parameters set found on development set:\n",
            "\n",
            "{'booster': 'gbtree', 'lambda': 0, 'max_depth': 10, 'objective': 'reg:squarederror', 'random_state': 42}\n",
            "\n",
            "Grid scores on development set:\n",
            "\n",
            "0.821 (+/-0.098) for {'booster': 'gbtree', 'lambda': 0, 'max_depth': 3, 'objective': 'reg:squarederror', 'random_state': 42}\n",
            "0.866 (+/-0.085) for {'booster': 'gbtree', 'lambda': 0, 'max_depth': 4, 'objective': 'reg:squarederror', 'random_state': 42}\n",
            "0.884 (+/-0.069) for {'booster': 'gbtree', 'lambda': 0, 'max_depth': 5, 'objective': 'reg:squarederror', 'random_state': 42}\n",
            "0.899 (+/-0.082) for {'booster': 'gbtree', 'lambda': 0, 'max_depth': 6, 'objective': 'reg:squarederror', 'random_state': 42}\n",
            "0.903 (+/-0.090) for {'booster': 'gbtree', 'lambda': 0, 'max_depth': 10, 'objective': 'reg:squarederror', 'random_state': 42}\n",
            "0.885 (+/-0.106) for {'booster': 'gbtree', 'lambda': 0, 'max_depth': 15, 'objective': 'reg:squarederror', 'random_state': 42}\n",
            "0.821 (+/-0.098) for {'booster': 'gbtree', 'lambda': 1, 'max_depth': 3, 'objective': 'reg:squarederror', 'random_state': 42}\n",
            "0.866 (+/-0.085) for {'booster': 'gbtree', 'lambda': 1, 'max_depth': 4, 'objective': 'reg:squarederror', 'random_state': 42}\n",
            "0.884 (+/-0.069) for {'booster': 'gbtree', 'lambda': 1, 'max_depth': 5, 'objective': 'reg:squarederror', 'random_state': 42}\n",
            "0.899 (+/-0.082) for {'booster': 'gbtree', 'lambda': 1, 'max_depth': 6, 'objective': 'reg:squarederror', 'random_state': 42}\n",
            "0.903 (+/-0.090) for {'booster': 'gbtree', 'lambda': 1, 'max_depth': 10, 'objective': 'reg:squarederror', 'random_state': 42}\n",
            "0.885 (+/-0.106) for {'booster': 'gbtree', 'lambda': 1, 'max_depth': 15, 'objective': 'reg:squarederror', 'random_state': 42}\n",
            "\n",
            "# Tuning hyper-parameters for r2\n",
            "\n",
            "Best parameters set found on development set:\n",
            "\n",
            "{'booster': 'gbtree', 'lambda': 0, 'max_depth': 10, 'objective': 'reg:squarederror', 'random_state': 42}\n",
            "\n",
            "Grid scores on development set:\n",
            "\n",
            "0.821 (+/-0.098) for {'booster': 'gbtree', 'lambda': 0, 'max_depth': 3, 'objective': 'reg:squarederror', 'random_state': 42}\n",
            "0.866 (+/-0.085) for {'booster': 'gbtree', 'lambda': 0, 'max_depth': 4, 'objective': 'reg:squarederror', 'random_state': 42}\n",
            "0.884 (+/-0.069) for {'booster': 'gbtree', 'lambda': 0, 'max_depth': 5, 'objective': 'reg:squarederror', 'random_state': 42}\n",
            "0.899 (+/-0.082) for {'booster': 'gbtree', 'lambda': 0, 'max_depth': 6, 'objective': 'reg:squarederror', 'random_state': 42}\n",
            "0.903 (+/-0.090) for {'booster': 'gbtree', 'lambda': 0, 'max_depth': 10, 'objective': 'reg:squarederror', 'random_state': 42}\n",
            "0.885 (+/-0.106) for {'booster': 'gbtree', 'lambda': 0, 'max_depth': 15, 'objective': 'reg:squarederror', 'random_state': 42}\n",
            "0.821 (+/-0.098) for {'booster': 'gbtree', 'lambda': 1, 'max_depth': 3, 'objective': 'reg:squarederror', 'random_state': 42}\n",
            "0.866 (+/-0.085) for {'booster': 'gbtree', 'lambda': 1, 'max_depth': 4, 'objective': 'reg:squarederror', 'random_state': 42}\n",
            "0.884 (+/-0.069) for {'booster': 'gbtree', 'lambda': 1, 'max_depth': 5, 'objective': 'reg:squarederror', 'random_state': 42}\n",
            "0.899 (+/-0.082) for {'booster': 'gbtree', 'lambda': 1, 'max_depth': 6, 'objective': 'reg:squarederror', 'random_state': 42}\n",
            "0.903 (+/-0.090) for {'booster': 'gbtree', 'lambda': 1, 'max_depth': 10, 'objective': 'reg:squarederror', 'random_state': 42}\n",
            "0.885 (+/-0.106) for {'booster': 'gbtree', 'lambda': 1, 'max_depth': 15, 'objective': 'reg:squarederror', 'random_state': 42}\n",
            "\n"
          ]
        }
      ]
    },
    {
      "cell_type": "markdown",
      "metadata": {
        "id": "nifuUPvRWWvL"
      },
      "source": [
        "## 11.3) GridSearchCV Interpretation"
      ]
    },
    {
      "cell_type": "markdown",
      "metadata": {
        "id": "aeR0b6mLWdBh"
      },
      "source": [
        "GridSearchCV Implementation (1) indicates that of the following parameters: \n",
        "\n",
        "Alpha, booster, lambda, and sampling_method\n",
        "\n",
        "Only 'booster' had an effect on the model's performance. Having a booster function of gbtree resulted in expected_variance of 0.866 whereas the booster function of\n"
      ]
    },
    {
      "cell_type": "markdown",
      "metadata": {
        "id": "fgb68hxyHQ28"
      },
      "source": [
        "# 12) Experiment with your own custom models (RandomForestRegressor())"
      ]
    },
    {
      "cell_type": "code",
      "metadata": {
        "id": "xWyolK3WHapK"
      },
      "source": [
        "from sklearn.ensemble import RandomForestRegressor\n",
        "from sklearn.metrics import mean_squared_error\n",
        "from sklearn.metrics import r2_score\n",
        "from sklearn.metrics import mean_absolute_error"
      ],
      "execution_count": null,
      "outputs": []
    },
    {
      "cell_type": "markdown",
      "metadata": {
        "id": "arIGJVWwHeCs"
      },
      "source": [
        "## 12.1) RFR Implementation"
      ]
    },
    {
      "cell_type": "code",
      "metadata": {
        "colab": {
          "base_uri": "https://localhost:8080/"
        },
        "id": "poh-4RiOHmLa",
        "outputId": "1a99e5ee-e337-41d4-9a4c-859fd56aea72"
      },
      "source": [
        "rfr = RandomForestRegressor(random_state=0)\n",
        "rfr.fit(x_train, y_train)\n",
        "\n",
        "pred_vals_train = rfr.predict(x_train)\n",
        "pred_vals_test = rfr.predict(x_test)\n",
        "\n",
        "linear_regression_metrics(y_train, pred_vals_train, y_test, pred_vals_test)"
      ],
      "execution_count": null,
      "outputs": [
        {
          "output_type": "stream",
          "name": "stdout",
          "text": [
            "Training Metrics: \n",
            "explained_variance:  0.9852\n",
            "r2:  0.9852\n",
            "MAE:  56643.4045\n",
            "MSE:  35862418773.7543\n",
            "RMSE:  189373.7542\n",
            "\n",
            "Testing Metrics: \n",
            "explained_variance:  0.9374\n",
            "r2:  0.9374\n",
            "MAE:  146821.2366\n",
            "MSE:  201606061554.6374\n",
            "RMSE:  449005.6364\n",
            "\n",
            "\n"
          ]
        }
      ]
    },
    {
      "cell_type": "code",
      "metadata": {
        "colab": {
          "base_uri": "https://localhost:8080/",
          "height": 329
        },
        "id": "wffkzOf3ItVc",
        "outputId": "edafb7f6-71ed-44af-e14d-b8f0dd583277"
      },
      "source": [
        "attr_imp = list(zip(rfr.feature_importances_,list(cols)))\n",
        "display(attr_imp)"
      ],
      "execution_count": null,
      "outputs": [
        {
          "output_type": "display_data",
          "data": {
            "text/plain": [
              "[(0.14537820941682578, 'ARP'),\n",
              " (0.008226624720767062, 'ARP vs. Prior Period'),\n",
              " (0.16402215934558267, 'Average 3 Mo. Units Growth'),\n",
              " (0.010457133125098802, 'Sells Ingestibles'),\n",
              " (0.007347636257732498, 'Sells Inhaleables'),\n",
              " (0.037383872253735614, 'Concentrates'),\n",
              " (0.003034415031346863, 'Pre-Rolled/Flower'),\n",
              " (0.0423196389994581, 'Vape Cartridge'),\n",
              " (7.209593801233629e-06, 'Sells THC'),\n",
              " (0.4675752652747198, 'NumProducts'),\n",
              " (0.01002086085395213, 'ARP Increase Previous 2 Months ($)'),\n",
              " (0.005605861437571619, 'Year'),\n",
              " (0.059227133199782095, 'Market Share Growth (% of Market) Prev. 2 Mo.'),\n",
              " (0.0007070534895909355, 'quarter_1'),\n",
              " (0.0007478082693593548, 'quarter_2'),\n",
              " (0.0017329794093332502, 'quarter_3'),\n",
              " (0.0008914946567103062, 'quarter_4'),\n",
              " (0.035314644664631835, 'Length In Market (Days)')]"
            ]
          },
          "metadata": {}
        }
      ]
    },
    {
      "cell_type": "markdown",
      "metadata": {
        "id": "wdb5m4h3JJ1u"
      },
      "source": [
        "## 12.2) K-fold Cross Validation of RF Regression"
      ]
    },
    {
      "cell_type": "code",
      "metadata": {
        "colab": {
          "base_uri": "https://localhost:8080/"
        },
        "id": "eomURPG6JliH",
        "outputId": "9fec4ae8-6e15-426a-fa0a-6404b020a377"
      },
      "source": [
        "from sklearn.model_selection import cross_val_score\n",
        "\n",
        "# Pipeline data\n",
        "data_all = pipeline(brandAvgRetailPrice,brandDetails,brandTotalSales,brandTotalUnits)\n",
        "cols = data_all[0]\n",
        "data = data_all[1]\n",
        "data.info()"
      ],
      "execution_count": null,
      "outputs": [
        {
          "output_type": "stream",
          "name": "stderr",
          "text": [
            "/usr/local/lib/python3.7/dist-packages/pandas/core/indexing.py:1596: SettingWithCopyWarning: \n",
            "A value is trying to be set on a copy of a slice from a DataFrame.\n",
            "Try using .loc[row_indexer,col_indexer] = value instead\n",
            "\n",
            "See the caveats in the documentation: https://pandas.pydata.org/pandas-docs/stable/user_guide/indexing.html#returning-a-view-versus-a-copy\n",
            "  self.obj[key] = _infer_fill_value(value)\n",
            "/usr/local/lib/python3.7/dist-packages/pandas/core/indexing.py:1743: SettingWithCopyWarning: \n",
            "A value is trying to be set on a copy of a slice from a DataFrame.\n",
            "Try using .loc[row_indexer,col_indexer] = value instead\n",
            "\n",
            "See the caveats in the documentation: https://pandas.pydata.org/pandas-docs/stable/user_guide/indexing.html#returning-a-view-versus-a-copy\n",
            "  isetter(ilocs[0], value)\n",
            "/usr/local/lib/python3.7/dist-packages/ipykernel_launcher.py:78: SettingWithCopyWarning: \n",
            "A value is trying to be set on a copy of a slice from a DataFrame.\n",
            "Try using .loc[row_indexer,col_indexer] = value instead\n",
            "\n",
            "See the caveats in the documentation: https://pandas.pydata.org/pandas-docs/stable/user_guide/indexing.html#returning-a-view-versus-a-copy\n",
            "/usr/local/lib/python3.7/dist-packages/pandas/core/indexing.py:1763: SettingWithCopyWarning: \n",
            "A value is trying to be set on a copy of a slice from a DataFrame.\n",
            "Try using .loc[row_indexer,col_indexer] = value instead\n",
            "\n",
            "See the caveats in the documentation: https://pandas.pydata.org/pandas-docs/stable/user_guide/indexing.html#returning-a-view-versus-a-copy\n",
            "  isetter(loc, value)\n"
          ]
        },
        {
          "output_type": "stream",
          "name": "stdout",
          "text": [
            "<class 'pandas.core.frame.DataFrame'>\n",
            "RangeIndex: 25279 entries, 0 to 25278\n",
            "Data columns (total 19 columns):\n",
            " #   Column                                         Non-Null Count  Dtype  \n",
            "---  ------                                         --------------  -----  \n",
            " 0   Total Sales ($)                                25279 non-null  float64\n",
            " 1   ARP                                            25279 non-null  float64\n",
            " 2   ARP vs. Prior Period                           25279 non-null  float64\n",
            " 3   Average 3 Mo. Units Growth                     25279 non-null  float64\n",
            " 4   Sells Ingestibles                              25279 non-null  float64\n",
            " 5   Sells Inhaleables                              25279 non-null  float64\n",
            " 6   Concentrates                                   25279 non-null  float64\n",
            " 7   Pre-Rolled/Flower                              25279 non-null  float64\n",
            " 8   Vape Cartridge                                 25279 non-null  float64\n",
            " 9   Sells THC                                      25279 non-null  float64\n",
            " 10  NumProducts                                    25279 non-null  float64\n",
            " 11  ARP Increase Previous 2 Months ($)             25279 non-null  float64\n",
            " 12  Year                                           25279 non-null  float64\n",
            " 13  Market Share Growth (% of Market) Prev. 2 Mo.  25279 non-null  float64\n",
            " 14  quarter_1                                      25279 non-null  uint8  \n",
            " 15  quarter_2                                      25279 non-null  uint8  \n",
            " 16  quarter_3                                      25279 non-null  uint8  \n",
            " 17  quarter_4                                      25279 non-null  uint8  \n",
            " 18  Length In Market (Days)                        25279 non-null  float64\n",
            "dtypes: float64(15), uint8(4)\n",
            "memory usage: 3.0 MB\n"
          ]
        }
      ]
    },
    {
      "cell_type": "code",
      "metadata": {
        "id": "v14QiZUnJQnP"
      },
      "source": [
        "target = data['Total Sales ($)']\n",
        "features = data.drop(axis = 1, labels = ['Total Sales ($)'])\n",
        "\n",
        "clf = RandomForestRegressor(random_state=0)\n",
        "\n",
        "scores = cross_val_score(clf, features, target, cv=5)\n",
        "print(\"%0.2f accuracy with a standard deviation of %0.2f\" % (scores.mean(), scores.std()))\n",
        "print()\n",
        "\n",
        "scores_ev = cross_val_score(clf, X, y, cv=5,scoring='explained_variance')\n",
        "print(\"%0.2f explained_variance with a standard deviation of %0.2f\" % (scores_ev.mean(), scores_ev.std()))\n",
        "print()\n",
        "\n",
        "scores_mse = cross_val_score(clf, X, y, cv=5,scoring='neg_mean_squared_error')\n",
        "print(\"%0.2f mse with a standard deviation of %0.2f\" % (scores_mse.mean(), scores_mse.std()))\n",
        "print()"
      ],
      "execution_count": null,
      "outputs": []
    },
    {
      "cell_type": "code",
      "metadata": {
        "colab": {
          "base_uri": "https://localhost:8080/"
        },
        "id": "IdbFFSKOL70D",
        "outputId": "5b37670d-9119-48d7-e73c-81a150092189"
      },
      "source": [
        "from sklearn.model_selection import StratifiedKFold\n",
        "\n",
        "#bin total sales data into quartile categories so I can do a stratified split-->REMOVE BEFORE TRAINING/TESTING\n",
        "(quartile_1, quartile_2, quartile_3, maximum) = np.percentile(data['Total Sales ($)'], q= [25,50,75,100])\n",
        "print(f\"Quartile 1 Monthly Total Sales: ${quartile_1}\")\n",
        "print(f\"Quartile 2 Total Sales: ${quartile_2}\")\n",
        "print(f\"Quartile 3 Total Sales: ${quartile_3}\")\n",
        "print(f\"Maximum Total Sales: ${maximum}\")\n",
        "bins = [-1, quartile_1, quartile_2, quartile_3, maximum] # Creates bin edges for each quartile\n",
        "labels = [1, 2, 3, 4]\n",
        "data['Total Sales Quartile'] = pd.cut(data['Total Sales ($)'], bins=bins, labels=labels)\n",
        "\n",
        "data.head()\n",
        "data.info()"
      ],
      "execution_count": null,
      "outputs": [
        {
          "output_type": "stream",
          "name": "stdout",
          "text": [
            "Quartile 1 Monthly Total Sales: $13903.195\n",
            "Quartile 2 Total Sales: $62100.8\n",
            "Quartile 3 Total Sales: $247326.95\n",
            "Maximum Total Sales: $40363507.0\n",
            "<class 'pandas.core.frame.DataFrame'>\n",
            "RangeIndex: 25279 entries, 0 to 25278\n",
            "Data columns (total 20 columns):\n",
            " #   Column                                         Non-Null Count  Dtype   \n",
            "---  ------                                         --------------  -----   \n",
            " 0   Total Sales ($)                                25279 non-null  float64 \n",
            " 1   ARP                                            25279 non-null  float64 \n",
            " 2   ARP vs. Prior Period                           25279 non-null  float64 \n",
            " 3   Average 3 Mo. Units Growth                     25279 non-null  float64 \n",
            " 4   Sells Ingestibles                              25279 non-null  float64 \n",
            " 5   Sells Inhaleables                              25279 non-null  float64 \n",
            " 6   Concentrates                                   25279 non-null  float64 \n",
            " 7   Pre-Rolled/Flower                              25279 non-null  float64 \n",
            " 8   Vape Cartridge                                 25279 non-null  float64 \n",
            " 9   Sells THC                                      25279 non-null  float64 \n",
            " 10  NumProducts                                    25279 non-null  float64 \n",
            " 11  ARP Increase Previous 2 Months ($)             25279 non-null  float64 \n",
            " 12  Year                                           25279 non-null  float64 \n",
            " 13  Market Share Growth (% of Market) Prev. 2 Mo.  25279 non-null  float64 \n",
            " 14  quarter_1                                      25279 non-null  uint8   \n",
            " 15  quarter_2                                      25279 non-null  uint8   \n",
            " 16  quarter_3                                      25279 non-null  uint8   \n",
            " 17  quarter_4                                      25279 non-null  uint8   \n",
            " 18  Length In Market (Days)                        25279 non-null  float64 \n",
            " 19  Total Sales Quartile                           25279 non-null  category\n",
            "dtypes: category(1), float64(15), uint8(4)\n",
            "memory usage: 3.0 MB\n"
          ]
        }
      ]
    },
    {
      "cell_type": "code",
      "metadata": {
        "colab": {
          "base_uri": "https://localhost:8080/"
        },
        "id": "-p0g7g_uL0wM",
        "outputId": "160f2801-d00b-4a3c-872b-fcf83004019f"
      },
      "source": [
        "#now perform kfold cross-validation, stratified by total sales quartile\n",
        "num_splits = 10\n",
        "kfold = StratifiedKFold(n_splits=num_splits, shuffle=True, random_state=42)\n",
        "\n",
        "#arrays to hold metrics for CV of linreg and xgboost\n",
        "rfreg_maes = []\n",
        "rfreg_r2s = []\n",
        "\n",
        "#array for averaged XGB feature importance \n",
        "inferences = []\n",
        "\n",
        "for train_index, test_index in kfold.split(data, data['Total Sales Quartile']):\n",
        "    #data finishes at step 5 of pipeline-> and now modified with added column for strat.\n",
        "    \n",
        "    #Step 6 & Step 7, split data, drop target\n",
        "    train_set = data.loc[train_index].copy()\n",
        "    test_set = data.loc[test_index].copy()\n",
        "    \n",
        "    cv_data_train = train_set.drop('Total Sales ($)', axis=1)\n",
        "    cv_labels_train = train_set['Total Sales ($)']\n",
        "    \n",
        "    cv_data_test = test_set.drop('Total Sales ($)', axis=1)\n",
        "    cv_labels_test = test_set['Total Sales ($)']\n",
        "    \n",
        "    #DON'T LEAK THE TARGET VIA CATEGORY\n",
        "    #drop the total sales categories!!\n",
        "    cv_data_train = cv_data_train.drop('Total Sales Quartile', axis=1)\n",
        "    cv_data_test = cv_data_test.drop('Total Sales Quartile', axis=1)\n",
        "    display(cv_data_test.head(2))\n",
        "    \n",
        "    #standardize data (Step 8 of pipeline, 1-7 already complete)\n",
        "    pip = Pipeline([('std_scaler', StandardScaler())])\n",
        "    cv_train_prep = pip.fit_transform(cv_data_train)\n",
        "    cv_test_prep = pip.transform(cv_data_test)\n",
        "    \n",
        "    #CROSS-VALIDATE LINREG MODEL\n",
        "    rfreg = RandomForestRegressor(random_state=0)\n",
        "    rfreg.fit(cv_data_train, cv_labels_train)\n",
        "    preds = rfreg.predict(cv_data_test)\n",
        "    rfreg_maes.append(mean_absolute_error(cv_labels_test, preds))\n",
        "    rfreg_r2s.append(r2_score(cv_labels_test, preds))\n",
        "    \n",
        "    inferences.append(rfreg.feature_importances_)\n",
        "    \n",
        "print('RFRegression CV Performance (Test Data):')\n",
        "print(f'Mean mae: {np.mean(rfreg_maes)}')\n",
        "print(f'Mean R2: {np.mean(rfreg_r2s)}')    \n",
        "print()\n",
        "print('maes in Context')\n",
        "#Interpret the cross-validated errors in context of the data\n",
        "mean_sales = np.mean(data['Total Sales ($)'])\n",
        "print(f'RFR mae/ Average Total Sales : {np.mean(rfreg_maes)/mean_sales}')  "
      ],
      "execution_count": null,
      "outputs": [
        {
          "output_type": "stream",
          "name": "stdout",
          "text": [
            "RFRegression CV Performance (Test Data):\n",
            "Mean mae: 149881.76096132092\n",
            "Mean R2: 0.9039933458141111\n",
            "\n",
            "maes in Context\n",
            "RFR mae/ Average Total Sales : 0.36612535876052776\n"
          ]
        }
      ]
    },
    {
      "cell_type": "code",
      "metadata": {
        "id": "FTa8d0wTkjRP",
        "colab": {
          "base_uri": "https://localhost:8080/",
          "height": 330
        },
        "outputId": "cccd52ac-f23e-4a82-e8b0-e8b27bea3b2a"
      },
      "source": [
        "data.head(5)"
      ],
      "execution_count": null,
      "outputs": [
        {
          "output_type": "execute_result",
          "data": {
            "text/html": [
              "<div>\n",
              "<style scoped>\n",
              "    .dataframe tbody tr th:only-of-type {\n",
              "        vertical-align: middle;\n",
              "    }\n",
              "\n",
              "    .dataframe tbody tr th {\n",
              "        vertical-align: top;\n",
              "    }\n",
              "\n",
              "    .dataframe thead th {\n",
              "        text-align: right;\n",
              "    }\n",
              "</style>\n",
              "<table border=\"1\" class=\"dataframe\">\n",
              "  <thead>\n",
              "    <tr style=\"text-align: right;\">\n",
              "      <th></th>\n",
              "      <th>Total Sales ($)</th>\n",
              "      <th>ARP</th>\n",
              "      <th>ARP vs. Prior Period</th>\n",
              "      <th>Average 3 Mo. Units Growth</th>\n",
              "      <th>Sells Ingestibles</th>\n",
              "      <th>Sells Inhaleables</th>\n",
              "      <th>Concentrates</th>\n",
              "      <th>Pre-Rolled/Flower</th>\n",
              "      <th>Vape Cartridge</th>\n",
              "      <th>Sells THC</th>\n",
              "      <th>NumProducts</th>\n",
              "      <th>ARP Increase Previous 2 Months ($)</th>\n",
              "      <th>Year</th>\n",
              "      <th>Market Share Growth (% of Market) Prev. 2 Mo.</th>\n",
              "      <th>quarter_1</th>\n",
              "      <th>quarter_2</th>\n",
              "      <th>quarter_3</th>\n",
              "      <th>quarter_4</th>\n",
              "      <th>Length In Market (Days)</th>\n",
              "      <th>Total Sales Quartile</th>\n",
              "    </tr>\n",
              "  </thead>\n",
              "  <tbody>\n",
              "    <tr>\n",
              "      <th>0</th>\n",
              "      <td>25352.130</td>\n",
              "      <td>15.684913</td>\n",
              "      <td>0.000000</td>\n",
              "      <td>0.0</td>\n",
              "      <td>0.0</td>\n",
              "      <td>1.0</td>\n",
              "      <td>0.0</td>\n",
              "      <td>1.0</td>\n",
              "      <td>0.0</td>\n",
              "      <td>1.0</td>\n",
              "      <td>4.0</td>\n",
              "      <td>0.000000</td>\n",
              "      <td>2020.0</td>\n",
              "      <td>0.000000</td>\n",
              "      <td>0</td>\n",
              "      <td>0</td>\n",
              "      <td>1</td>\n",
              "      <td>0</td>\n",
              "      <td>0.0</td>\n",
              "      <td>2</td>\n",
              "    </tr>\n",
              "    <tr>\n",
              "      <th>1</th>\n",
              "      <td>9739.423</td>\n",
              "      <td>13.611428</td>\n",
              "      <td>0.000000</td>\n",
              "      <td>0.0</td>\n",
              "      <td>0.0</td>\n",
              "      <td>1.0</td>\n",
              "      <td>0.0</td>\n",
              "      <td>1.0</td>\n",
              "      <td>0.0</td>\n",
              "      <td>1.0</td>\n",
              "      <td>4.0</td>\n",
              "      <td>0.000000</td>\n",
              "      <td>2021.0</td>\n",
              "      <td>0.000000</td>\n",
              "      <td>1</td>\n",
              "      <td>0</td>\n",
              "      <td>0</td>\n",
              "      <td>0</td>\n",
              "      <td>153.0</td>\n",
              "      <td>1</td>\n",
              "    </tr>\n",
              "    <tr>\n",
              "      <th>2</th>\n",
              "      <td>9102.802</td>\n",
              "      <td>11.873182</td>\n",
              "      <td>-0.127705</td>\n",
              "      <td>0.0</td>\n",
              "      <td>0.0</td>\n",
              "      <td>1.0</td>\n",
              "      <td>0.0</td>\n",
              "      <td>1.0</td>\n",
              "      <td>0.0</td>\n",
              "      <td>1.0</td>\n",
              "      <td>4.0</td>\n",
              "      <td>-2.073485</td>\n",
              "      <td>2021.0</td>\n",
              "      <td>-0.000043</td>\n",
              "      <td>1</td>\n",
              "      <td>0</td>\n",
              "      <td>0</td>\n",
              "      <td>0</td>\n",
              "      <td>184.0</td>\n",
              "      <td>1</td>\n",
              "    </tr>\n",
              "    <tr>\n",
              "      <th>3</th>\n",
              "      <td>4465.040</td>\n",
              "      <td>34.066667</td>\n",
              "      <td>0.000000</td>\n",
              "      <td>0.0</td>\n",
              "      <td>0.0</td>\n",
              "      <td>1.0</td>\n",
              "      <td>1.0</td>\n",
              "      <td>1.0</td>\n",
              "      <td>0.0</td>\n",
              "      <td>1.0</td>\n",
              "      <td>77.0</td>\n",
              "      <td>0.000000</td>\n",
              "      <td>2019.0</td>\n",
              "      <td>0.000000</td>\n",
              "      <td>0</td>\n",
              "      <td>0</td>\n",
              "      <td>0</td>\n",
              "      <td>1</td>\n",
              "      <td>0.0</td>\n",
              "      <td>1</td>\n",
              "    </tr>\n",
              "    <tr>\n",
              "      <th>4</th>\n",
              "      <td>11790.660</td>\n",
              "      <td>34.134929</td>\n",
              "      <td>0.000000</td>\n",
              "      <td>0.0</td>\n",
              "      <td>0.0</td>\n",
              "      <td>1.0</td>\n",
              "      <td>1.0</td>\n",
              "      <td>1.0</td>\n",
              "      <td>0.0</td>\n",
              "      <td>1.0</td>\n",
              "      <td>77.0</td>\n",
              "      <td>0.000000</td>\n",
              "      <td>2020.0</td>\n",
              "      <td>0.000000</td>\n",
              "      <td>1</td>\n",
              "      <td>0</td>\n",
              "      <td>0</td>\n",
              "      <td>0</td>\n",
              "      <td>61.0</td>\n",
              "      <td>1</td>\n",
              "    </tr>\n",
              "  </tbody>\n",
              "</table>\n",
              "</div>"
            ],
            "text/plain": [
              "   Total Sales ($)        ARP  ...  Length In Market (Days)  Total Sales Quartile\n",
              "0        25352.130  15.684913  ...                      0.0                     2\n",
              "1         9739.423  13.611428  ...                    153.0                     1\n",
              "2         9102.802  11.873182  ...                    184.0                     1\n",
              "3         4465.040  34.066667  ...                      0.0                     1\n",
              "4        11790.660  34.134929  ...                     61.0                     1\n",
              "\n",
              "[5 rows x 20 columns]"
            ]
          },
          "metadata": {},
          "execution_count": 69
        }
      ]
    }
  ]
}